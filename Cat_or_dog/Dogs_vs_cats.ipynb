{
 "cells": [
  {
   "cell_type": "markdown",
   "metadata": {
    "colab_type": "text",
    "id": "Oyk_SiUhYlTv"
   },
   "source": [
    "## Dogs vs. Cats\n",
    "\n",
    "\n",
    "\n",
    "![](https://storage.googleapis.com/kaggle-competitions/kaggle/3362/media/woof_meow.jpg)\n",
    "\n",
    "\n",
    "\n",
    "\n",
    "##  Dataset \n",
    "````\n",
    "./dataset/\n",
    "----> training_set/\n",
    "--------> dog/\n",
    "               image1\n",
    "               image2\n",
    "               .\n",
    "               .\n",
    "--------> cat/\n",
    "               image1\n",
    "               image2\n",
    "               .\n",
    "               .\n",
    "----> test_set/\n",
    "--------> dog/\n",
    "               image1\n",
    "               image2\n",
    "               .\n",
    "               .\n",
    "--------> cat/\n",
    "               image1\n",
    "               image2\n",
    "               .\n",
    "           .\n",
    "````\n",
    "\n"
   ]
  },
  {
   "cell_type": "code",
   "execution_count": 8,
   "metadata": {
    "colab": {},
    "colab_type": "code",
    "id": "RUzCV873Ysla"
   },
   "outputs": [],
   "source": [
    "# example of loading the cifar10 dataset\n",
    "\n",
    "from tensorflow.keras.layers import Dense, Activation, Flatten, Dropout\n",
    "from tensorflow.keras.layers import Conv2D, MaxPooling2D\n",
    "from tensorflow.keras.models import Sequential\n",
    "from tensorflow.keras import backend as K\n",
    "from tensorflow.keras.preprocessing.image import ImageDataGenerator"
   ]
  },
  {
   "cell_type": "code",
   "execution_count": 10,
   "metadata": {},
   "outputs": [],
   "source": [
    "# dimensions of our images.\n",
    "img_width, img_height = 150, 150\n",
    "\n",
    "train_data_dir = './dataset/training_set/'\n",
    "validation_data_dir = './dataset/test_set/'\n",
    "nb_train_samples = 8000\n",
    "nb_validation_samples = 2000\n",
    "epochs = 50\n",
    "batch_size = 16\n",
    "\n",
    "if K.image_data_format() == 'channels_first':\n",
    "    input_shape = (3, img_width, img_height)\n",
    "else:\n",
    "    input_shape = (img_width, img_height, 3)"
   ]
  },
  {
   "cell_type": "code",
   "execution_count": 11,
   "metadata": {
    "colab": {},
    "colab_type": "code",
    "id": "0CL546ynYwIp"
   },
   "outputs": [
    {
     "name": "stdout",
     "output_type": "stream",
     "text": [
      "Found 8000 images belonging to 2 classes.\n",
      "Found 2000 images belonging to 2 classes.\n"
     ]
    }
   ],
   "source": [
    "# this is the augmentation configuration we will use for training\n",
    "train_datagen = ImageDataGenerator(\n",
    "    rescale=1. / 255)\n",
    "\n",
    "# this is the augmentation configuration we will use for testing:\n",
    "# only rescaling\n",
    "test_datagen = ImageDataGenerator(rescale=1. / 255)\n",
    "\n",
    "train_generator = train_datagen.flow_from_directory(\n",
    "    train_data_dir,\n",
    "    target_size=(img_width, img_height),\n",
    "    batch_size=batch_size,\n",
    "    class_mode='binary')\n",
    "\n",
    "validation_generator = test_datagen.flow_from_directory(\n",
    "    validation_data_dir,\n",
    "    target_size=(img_width, img_height),\n",
    "    batch_size=batch_size,\n",
    "    class_mode='binary')"
   ]
  },
  {
   "cell_type": "code",
   "execution_count": 13,
   "metadata": {},
   "outputs": [],
   "source": [
    "model = Sequential()\n",
    "model.add(Conv2D(32, (3, 3), input_shape=input_shape))\n",
    "model.add(Activation('relu'))\n",
    "model.add(MaxPooling2D(pool_size=(2, 2)))\n",
    "\n",
    "model.add(Conv2D(32, (3, 3)))\n",
    "model.add(Activation('relu'))\n",
    "model.add(MaxPooling2D(pool_size=(2, 2)))\n",
    "\n",
    "model.add(Conv2D(64, (3, 3)))\n",
    "model.add(Activation('relu'))\n",
    "model.add(MaxPooling2D(pool_size=(2, 2)))\n",
    "\n",
    "model.add(Flatten())\n",
    "model.add(Dense(64))\n",
    "model.add(Activation('relu'))\n",
    "model.add(Dropout(0.5))\n",
    "model.add(Dense(1))\n",
    "model.add(Activation('sigmoid'))\n",
    "\n",
    "model.compile(loss='binary_crossentropy',\n",
    "              optimizer='rmsprop',\n",
    "              metrics=['accuracy'])"
   ]
  },
  {
   "cell_type": "code",
   "execution_count": 15,
   "metadata": {
    "colab": {
     "base_uri": "https://localhost:8080/",
     "height": 52
    },
    "colab_type": "code",
    "id": "JVm3b5ueYzVL",
    "outputId": "5a338786-9a5a-4996-9fd8-9c681662763e",
    "scrolled": true
   },
   "outputs": [
    {
     "name": "stdout",
     "output_type": "stream",
     "text": [
      "Epoch 1/50\n",
      "500/500 [==============================] - 238s 475ms/step - loss: 0.6341 - accuracy: 0.6471 - val_loss: 0.5375 - val_accuracy: 0.7360\n",
      "Epoch 2/50\n",
      "500/500 [==============================] - 229s 459ms/step - loss: 0.5569 - accuracy: 0.7232 - val_loss: 0.5222 - val_accuracy: 0.7505\n",
      "Epoch 3/50\n",
      "500/500 [==============================] - 248s 495ms/step - loss: 0.5174 - accuracy: 0.7511 - val_loss: 0.5128 - val_accuracy: 0.7500\n",
      "Epoch 4/50\n",
      "500/500 [==============================] - 267s 534ms/step - loss: 0.4762 - accuracy: 0.7826 - val_loss: 0.4817 - val_accuracy: 0.7805\n",
      "Epoch 5/50\n",
      "500/500 [==============================] - 337s 673ms/step - loss: 0.4543 - accuracy: 0.7940 - val_loss: 0.5828 - val_accuracy: 0.7245\n",
      "Epoch 6/50\n",
      "500/500 [==============================] - 341s 683ms/step - loss: 0.4109 - accuracy: 0.8232 - val_loss: 0.5207 - val_accuracy: 0.7930\n",
      "Epoch 8/50\n",
      "500/500 [==============================] - 344s 689ms/step - loss: 0.4031 - accuracy: 0.8315 - val_loss: 0.5342 - val_accuracy: 0.7940\n",
      "Epoch 9/50\n",
      "500/500 [==============================] - 2914s 6s/step - loss: 0.3936 - accuracy: 0.8389 - val_loss: 0.4606 - val_accuracy: 0.8045\n",
      "Epoch 10/50\n",
      "500/500 [==============================] - 339s 677ms/step - loss: 0.3777 - accuracy: 0.8469 - val_loss: 0.4640 - val_accuracy: 0.7970\n",
      "Epoch 11/50\n",
      "500/500 [==============================] - 333s 666ms/step - loss: 0.3814 - accuracy: 0.8434 - val_loss: 0.4694 - val_accuracy: 0.7895\n",
      "Epoch 12/50\n",
      "500/500 [==============================] - 342s 683ms/step - loss: 0.3664 - accuracy: 0.8568 - val_loss: 0.4909 - val_accuracy: 0.7935\n",
      "Epoch 13/50\n",
      "500/500 [==============================] - 338s 676ms/step - loss: 0.3608 - accuracy: 0.8525 - val_loss: 0.5963 - val_accuracy: 0.7830\n",
      "Epoch 14/50\n",
      "500/500 [==============================] - 333s 667ms/step - loss: 0.3577 - accuracy: 0.8539 - val_loss: 0.4953 - val_accuracy: 0.8085\n",
      "Epoch 15/50\n",
      "500/500 [==============================] - 302s 604ms/step - loss: 0.3525 - accuracy: 0.8618 - val_loss: 0.4971 - val_accuracy: 0.7835\n",
      "Epoch 17/50\n",
      "500/500 [==============================] - 234s 467ms/step - loss: 0.3391 - accuracy: 0.8676 - val_loss: 0.4975 - val_accuracy: 0.7890\n",
      "Epoch 18/50\n",
      "500/500 [==============================] - 265s 530ms/step - loss: 0.3459 - accuracy: 0.8706 - val_loss: 0.4984 - val_accuracy: 0.8175\n",
      "Epoch 19/50\n",
      "500/500 [==============================] - 254s 507ms/step - loss: 0.3375 - accuracy: 0.8673 - val_loss: 0.5839 - val_accuracy: 0.8110\n",
      "Epoch 20/50\n",
      "500/500 [==============================] - 228s 457ms/step - loss: 0.3424 - accuracy: 0.8715 - val_loss: 0.5571 - val_accuracy: 0.8065\n",
      "Epoch 21/50\n",
      "500/500 [==============================] - 227s 455ms/step - loss: 0.3323 - accuracy: 0.8754 - val_loss: 0.6330 - val_accuracy: 0.8020\n",
      "Epoch 22/50\n",
      "500/500 [==============================] - 230s 460ms/step - loss: 0.3368 - accuracy: 0.8736 - val_loss: 0.6403 - val_accuracy: 0.8130\n",
      "Epoch 24/50\n",
      "500/500 [==============================] - 227s 453ms/step - loss: 0.3241 - accuracy: 0.8759 - val_loss: 0.5204 - val_accuracy: 0.7770\n",
      "Epoch 25/50\n",
      "500/500 [==============================] - 239s 479ms/step - loss: 0.3310 - accuracy: 0.8759 - val_loss: 0.6676 - val_accuracy: 0.8100\n",
      "Epoch 26/50\n",
      "500/500 [==============================] - 237s 474ms/step - loss: 0.3401 - accuracy: 0.8715 - val_loss: 0.5064 - val_accuracy: 0.8315\n",
      "Epoch 27/50\n",
      "500/500 [==============================] - 251s 502ms/step - loss: 0.3107 - accuracy: 0.8804 - val_loss: 0.6991 - val_accuracy: 0.7890\n",
      "Epoch 28/50\n",
      "500/500 [==============================] - 260s 519ms/step - loss: 0.3092 - accuracy: 0.8810 - val_loss: 0.5273 - val_accuracy: 0.7985\n",
      "Epoch 29/50\n",
      "500/500 [==============================] - 236s 472ms/step - loss: 0.3312 - accuracy: 0.8729 - val_loss: 0.5593 - val_accuracy: 0.8190\n",
      "Epoch 30/50\n",
      "500/500 [==============================] - 229s 457ms/step - loss: 0.3177 - accuracy: 0.8849 - val_loss: 0.5087 - val_accuracy: 0.8010\n",
      "Epoch 31/50\n",
      "500/500 [==============================] - 229s 459ms/step - loss: 0.3160 - accuracy: 0.8794 - val_loss: 0.5275 - val_accuracy: 0.7915\n",
      "Epoch 32/50\n",
      "500/500 [==============================] - 225s 450ms/step - loss: 0.3202 - accuracy: 0.8808 - val_loss: 0.5932 - val_accuracy: 0.8015\n",
      "Epoch 33/50\n",
      "500/500 [==============================] - 245s 490ms/step - loss: 0.3239 - accuracy: 0.8770 - val_loss: 0.5342 - val_accuracy: 0.8135\n",
      "Epoch 34/50\n",
      "500/500 [==============================] - 249s 499ms/step - loss: 0.3162 - accuracy: 0.8769 - val_loss: 0.6850 - val_accuracy: 0.7935\n",
      "Epoch 35/50\n",
      "500/500 [==============================] - 237s 475ms/step - loss: 0.3162 - accuracy: 0.8823 - val_loss: 0.5119 - val_accuracy: 0.8110\n",
      "Epoch 36/50\n",
      "500/500 [==============================] - 252s 505ms/step - loss: 0.3197 - accuracy: 0.8823 - val_loss: 0.6591 - val_accuracy: 0.8285\n",
      "Epoch 37/50\n",
      "500/500 [==============================] - 249s 497ms/step - loss: 0.3147 - accuracy: 0.8775 - val_loss: 0.7828 - val_accuracy: 0.8170\n",
      "Epoch 38/50\n",
      "500/500 [==============================] - 249s 497ms/step - loss: 0.3325 - accuracy: 0.8715 - val_loss: 0.6426 - val_accuracy: 0.8140\n",
      "Epoch 39/50\n",
      "500/500 [==============================] - 244s 488ms/step - loss: 0.3167 - accuracy: 0.8867 - val_loss: 1.0542 - val_accuracy: 0.7795\n",
      "Epoch 40/50\n",
      "500/500 [==============================] - 241s 482ms/step - loss: 0.3257 - accuracy: 0.8811 - val_loss: 0.5579 - val_accuracy: 0.7175\n",
      "Epoch 41/50\n",
      "500/500 [==============================] - 230s 460ms/step - loss: 0.3320 - accuracy: 0.8799 - val_loss: 1.1279 - val_accuracy: 0.7550\n",
      "Epoch 42/50\n",
      "500/500 [==============================] - 229s 458ms/step - loss: 0.3325 - accuracy: 0.8726 - val_loss: 0.5487 - val_accuracy: 0.7980\n",
      "Epoch 43/50\n",
      "500/500 [==============================] - 232s 464ms/step - loss: 0.3400 - accuracy: 0.8705 - val_loss: 0.8304 - val_accuracy: 0.8315\n",
      "Epoch 44/50\n",
      "500/500 [==============================] - 237s 473ms/step - loss: 0.3343 - accuracy: 0.8774 - val_loss: 0.5191 - val_accuracy: 0.8120\n",
      "Epoch 45/50\n",
      "500/500 [==============================] - 232s 463ms/step - loss: 0.3383 - accuracy: 0.8700 - val_loss: 0.6355 - val_accuracy: 0.7815\n",
      "Epoch 46/50\n",
      "500/500 [==============================] - 227s 455ms/step - loss: 0.3473 - accuracy: 0.8735 - val_loss: 0.5008 - val_accuracy: 0.8230\n",
      "Epoch 47/50\n",
      "500/500 [==============================] - 228s 456ms/step - loss: 0.3228 - accuracy: 0.8774 - val_loss: 0.6605 - val_accuracy: 0.8270\n",
      "Epoch 48/50\n",
      "500/500 [==============================] - 219s 437ms/step - loss: 0.3545 - accuracy: 0.8659 - val_loss: 0.8113 - val_accuracy: 0.8015\n",
      "Epoch 49/50\n",
      "500/500 [==============================] - 243s 487ms/step - loss: 0.3274 - accuracy: 0.8808 - val_loss: 0.6356 - val_accuracy: 0.6840\n",
      "Epoch 50/50\n",
      "500/500 [==============================] - 231s 463ms/step - loss: 0.3380 - accuracy: 0.8701 - val_loss: 0.6378 - val_accuracy: 0.8180\n"
     ]
    }
   ],
   "source": [
    "model.fit_generator(\n",
    "    train_generator,\n",
    "    steps_per_epoch=nb_train_samples // batch_size,\n",
    "    epochs=epochs,\n",
    "    validation_data=validation_generator,\n",
    "    validation_steps=nb_validation_samples // batch_size)\n",
    "\n",
    "model.save_weights('first_try.h5')"
   ]
  },
  {
   "cell_type": "markdown",
   "metadata": {},
   "source": [
    "**Save your model**"
   ]
  },
  {
   "cell_type": "code",
   "execution_count": 16,
   "metadata": {},
   "outputs": [],
   "source": [
    "model.save(\"cat_dog_blog.h5\")"
   ]
  },
  {
   "cell_type": "code",
   "execution_count": 17,
   "metadata": {
    "colab": {
     "base_uri": "https://localhost:8080/",
     "height": 580
    },
    "colab_type": "code",
    "id": "LO5xq_nruyWK",
    "outputId": "ae2b3c9b-a3f9-4365-8580-bf07af31525d"
   },
   "outputs": [
    {
     "name": "stdout",
     "output_type": "stream",
     "text": [
      "Model: \"sequential\"\n",
      "_________________________________________________________________\n",
      "Layer (type)                 Output Shape              Param #   \n",
      "=================================================================\n",
      "conv2d (Conv2D)              (None, 148, 148, 32)      896       \n",
      "_________________________________________________________________\n",
      "activation (Activation)      (None, 148, 148, 32)      0         \n",
      "_________________________________________________________________\n",
      "max_pooling2d (MaxPooling2D) (None, 74, 74, 32)        0         \n",
      "_________________________________________________________________\n",
      "conv2d_1 (Conv2D)            (None, 72, 72, 32)        9248      \n",
      "_________________________________________________________________\n",
      "activation_1 (Activation)    (None, 72, 72, 32)        0         \n",
      "_________________________________________________________________\n",
      "max_pooling2d_1 (MaxPooling2 (None, 36, 36, 32)        0         \n",
      "_________________________________________________________________\n",
      "conv2d_2 (Conv2D)            (None, 34, 34, 64)        18496     \n",
      "_________________________________________________________________\n",
      "activation_2 (Activation)    (None, 34, 34, 64)        0         \n",
      "_________________________________________________________________\n",
      "max_pooling2d_2 (MaxPooling2 (None, 17, 17, 64)        0         \n",
      "_________________________________________________________________\n",
      "flatten (Flatten)            (None, 18496)             0         \n",
      "_________________________________________________________________\n",
      "dense (Dense)                (None, 64)                1183808   \n",
      "_________________________________________________________________\n",
      "activation_3 (Activation)    (None, 64)                0         \n",
      "_________________________________________________________________\n",
      "dropout (Dropout)            (None, 64)                0         \n",
      "_________________________________________________________________\n",
      "dense_1 (Dense)              (None, 1)                 65        \n",
      "_________________________________________________________________\n",
      "activation_4 (Activation)    (None, 1)                 0         \n",
      "=================================================================\n",
      "Total params: 1,212,513\n",
      "Trainable params: 1,212,513\n",
      "Non-trainable params: 0\n",
      "_________________________________________________________________\n"
     ]
    }
   ],
   "source": [
    "model.summary()"
   ]
  },
  {
   "cell_type": "code",
   "execution_count": 20,
   "metadata": {
    "colab": {},
    "colab_type": "code",
    "id": "h5LKXxdjHvqN"
   },
   "outputs": [
    {
     "name": "stdout",
     "output_type": "stream",
     "text": [
      "Accuracy: 81.80%\n"
     ]
    }
   ],
   "source": [
    "scores2l = model.evaluate(validation_generator, verbose=0)\n",
    "print(\"Accuracy: %.2f%%\" % (scores2l[1]*100))"
   ]
  },
  {
   "cell_type": "markdown",
   "metadata": {},
   "source": [
    "**Evaluate the model**"
   ]
  },
  {
   "cell_type": "code",
   "execution_count": 62,
   "metadata": {},
   "outputs": [
    {
     "data": {
      "text/plain": [
       "[0.6377977952361107, 0.818]"
      ]
     },
     "execution_count": 62,
     "metadata": {},
     "output_type": "execute_result"
    }
   ],
   "source": [
    "model.evaluate_generator(generator=validation_generator,\n",
    "steps=nb_validation_samples // batch_size)"
   ]
  },
  {
   "cell_type": "code",
   "execution_count": 68,
   "metadata": {},
   "outputs": [
    {
     "name": "stdout",
     "output_type": "stream",
     "text": [
      "125/125 [==============================] - 13s 105ms/step\n"
     ]
    }
   ],
   "source": [
    "STEP_SIZE_TEST=validation_generator.n//validation_generator.batch_size\n",
    "validation_generator.reset()\n",
    "pred=model.predict_generatord(validation_generator,\n",
    "steps=STEP_SIZE_TEST,\n",
    "verbose=1)"
   ]
  },
  {
   "cell_type": "code",
   "execution_count": 69,
   "metadata": {},
   "outputs": [],
   "source": [
    "predicted_class_indices=np.argmax(pred,axis=1)"
   ]
  },
  {
   "cell_type": "code",
   "execution_count": 70,
   "metadata": {},
   "outputs": [],
   "source": [
    "labels = (train_generator.class_indices)\n",
    "labels = dict((v,k) for k,v in labels.items())\n",
    "predictions = [labels[k] for k in predicted_class_indices]"
   ]
  },
  {
   "cell_type": "code",
   "execution_count": 71,
   "metadata": {},
   "outputs": [],
   "source": [
    "import pandas as pd\n",
    "filenames=validation_generator.filenames\n",
    "results=pd.DataFrame({\"Filename\":filenames,\n",
    "                      \"Predictions\":predictions})\n",
    "results.to_csv(\"results_1.csv\",index=False)"
   ]
  },
  {
   "cell_type": "markdown",
   "metadata": {},
   "source": [
    "**Single prediction**"
   ]
  },
  {
   "cell_type": "code",
   "execution_count": 72,
   "metadata": {},
   "outputs": [
    {
     "name": "stdout",
     "output_type": "stream",
     "text": [
      "cat\n"
     ]
    }
   ],
   "source": [
    "test_image = image.load_img('./dataset/single_prediction/12482.jpg', target_size = (150, 150))\n",
    "test_image = image.img_to_array(test_image)\n",
    "test_image = np.expand_dims(test_image, axis = 0)\n",
    "result = model.predict(test_image)\n",
    "# train_generator.class_indices\n",
    "if result[0][0] == 1:\n",
    "    prediction = 'dog'\n",
    "else:\n",
    "    prediction = 'cat'\n",
    "print(prediction)"
   ]
  },
  {
   "cell_type": "code",
   "execution_count": null,
   "metadata": {},
   "outputs": [],
   "source": []
  }
 ],
 "metadata": {
  "accelerator": "GPU",
  "colab": {
   "collapsed_sections": [],
   "machine_shape": "hm",
   "name": "Dogs vs cats.ipynb",
   "provenance": [],
   "toc_visible": true,
   "version": "0.3.2"
  },
  "kernelspec": {
   "display_name": "Python 3",
   "language": "python",
   "name": "python3"
  },
  "language_info": {
   "codemirror_mode": {
    "name": "ipython",
    "version": 3
   },
   "file_extension": ".py",
   "mimetype": "text/x-python",
   "name": "python",
   "nbconvert_exporter": "python",
   "pygments_lexer": "ipython3",
   "version": "3.7.3"
  }
 },
 "nbformat": 4,
 "nbformat_minor": 1
}

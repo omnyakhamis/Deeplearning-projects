{
 "cells": [
  {
   "cell_type": "markdown",
   "metadata": {
    "colab_type": "text",
    "id": "Oyk_SiUhYlTv"
   },
   "source": [
    "## Dogs vs. Cats\n",
    "In this competition, you'll write an algorithm to classify whether images contain either a dog or a cat.  This is easy for humans, dogs, and cats. Your computer will find it a bit more difficult.\n",
    "\n",
    "\n",
    "![](https://storage.googleapis.com/kaggle-competitions/kaggle/3362/media/woof_meow.jpg)\n",
    "\n",
    "Deep Blue beat Kasparov at chess in 1997.  \n",
    "Watson beat the brightest trivia minds at Jeopardy in 2011.  \n",
    "Can you tell Fido from Mittens in 2013?  \n",
    "\n",
    "\n",
    "## Your task:\n",
    "\n",
    "1. Train your algorithm on these files and predict the labels (1 = dog, 0 = cat).\n",
    "2. Deploy your model in herroku ! The user must have the possibility to upload a photo to test the model.\n",
    "\n",
    "##  Dataset \n",
    "````\n",
    "./dataset/\n",
    "----> training_set/\n",
    "--------> dog/\n",
    "               image1\n",
    "               image2\n",
    "               .\n",
    "               .\n",
    "--------> cat/\n",
    "               image1\n",
    "               image2\n",
    "               .\n",
    "               .\n",
    "----> test_set/\n",
    "--------> dog/\n",
    "               image1\n",
    "               image2\n",
    "               .\n",
    "               .\n",
    "--------> cat/\n",
    "               image1\n",
    "               image2\n",
    "               .\n",
    "           .\n",
    "````\n",
    "\n",
    "To load the dataset uses ImageDataGenerator : \n",
    "https://keras.io/preprocessing/image/"
   ]
  },
  {
   "cell_type": "code",
   "execution_count": 8,
   "metadata": {
    "colab": {
     "base_uri": "https://localhost:8080/",
     "height": 34
    },
    "colab_type": "code",
    "id": "o1WQCn7vYlTw",
    "outputId": "a15ca9c9-86db-463c-cab0-d38d8315dea6"
   },
   "outputs": [
    {
     "data": {
      "text/plain": [
       "'/device:GPU:0'"
      ]
     },
     "execution_count": 8,
     "metadata": {
      "tags": []
     },
     "output_type": "execute_result"
    }
   ],
   "source": [
    "# import tensorflow as tf \n",
    "# tf.test.gpu_device_name() \n"
   ]
  },
  {
   "cell_type": "code",
   "execution_count": 70,
   "metadata": {
    "colab": {},
    "colab_type": "code",
    "id": "RUzCV873Ysla"
   },
   "outputs": [],
   "source": [
    "# example of loading the cifar10 dataset\n",
    "from matplotlib import pyplot as plt\n",
    "from tensorflow.keras.datasets import cifar10\n",
    "from tensorflow.python.keras import utils\n",
    "from tensorflow.keras.layers import Dense, Activation, Flatten, Dropout, BatchNormalization\n",
    "from tensorflow.keras.layers import Conv2D, MaxPooling2D\n",
    "from tensorflow.keras.models import Sequential\n",
    "\n",
    "from tensorflow.keras.preprocessing.image import ImageDataGenerator, array_to_img, img_to_array, load_img\n",
    "from keras.preprocessing.image import image\n",
    "from tensorflow.keras import regularizers\n",
    "from tensorflow.keras import optimizers \n",
    "import tensorflow as tf\n",
    "import numpy as np"
   ]
  },
  {
   "cell_type": "code",
   "execution_count": 10,
   "metadata": {
    "colab": {
     "base_uri": "https://localhost:8080/",
     "height": 34
    },
    "colab_type": "code",
    "id": "wOh3vXPTqe3z",
    "outputId": "b2563931-86ed-4bad-d171-18f43f713651"
   },
   "outputs": [
    {
     "name": "stdout",
     "output_type": "stream",
     "text": [
      "Drive already mounted at /content/drive; to attempt to forcibly remount, call drive.mount(\"/content/drive\", force_remount=True).\n"
     ]
    }
   ],
   "source": [
    "# from google.colab import drive\n",
    "# drive.mount('/content/drive')"
   ]
  },
  {
   "cell_type": "code",
   "execution_count": 11,
   "metadata": {
    "colab": {
     "base_uri": "https://localhost:8080/",
     "height": 34
    },
    "colab_type": "code",
    "id": "6VOCxBD9rkCY",
    "outputId": "ff424eb0-33fc-41b1-a2e9-c68d900205b7"
   },
   "outputs": [
    {
     "name": "stdout",
     "output_type": "stream",
     "text": [
      "Mounted at /content/gdrive\n"
     ]
    }
   ],
   "source": [
    "# from google.colab import drive\n",
    "\n",
    "# drive.mount('/content/gdrive')\n",
    "# root_path = 'gdrive/My Drive/Colab Notebooks/02-Project/Cat_or_dog'  #change dir to your project folder"
   ]
  },
  {
   "cell_type": "code",
   "execution_count": 12,
   "metadata": {
    "colab": {
     "base_uri": "https://localhost:8080/",
     "height": 34
    },
    "colab_type": "code",
    "id": "U2g2-oSesIsq",
    "outputId": "77f7cff3-8cd5-4635-80b6-96e98566c264"
   },
   "outputs": [
    {
     "name": "stdout",
     "output_type": "stream",
     "text": [
      "gdrive/My Drive/Colab Notebooks/02-Project/Cat_or_dog\n"
     ]
    }
   ],
   "source": [
    "# print(root_path)"
   ]
  },
  {
   "cell_type": "code",
   "execution_count": 26,
   "metadata": {
    "colab": {},
    "colab_type": "code",
    "id": "0CL546ynYwIp"
   },
   "outputs": [],
   "source": [
    "# create a data generator\n",
    "train_datagen = ImageDataGenerator(rescale=1./255)\n",
    "test_datagen = ImageDataGenerator(rescale=1./255)\n",
    "val_datagen = ImageDataGenerator(rescale=1./255)"
   ]
  },
  {
   "cell_type": "code",
   "execution_count": 39,
   "metadata": {
    "colab": {
     "base_uri": "https://localhost:8080/",
     "height": 52
    },
    "colab_type": "code",
    "id": "JVm3b5ueYzVL",
    "outputId": "5a338786-9a5a-4996-9fd8-9c681662763e"
   },
   "outputs": [
    {
     "name": "stdout",
     "output_type": "stream",
     "text": [
      "Found 8000 images belonging to 2 classes.\n",
      "Found 4 images belonging to 2 classes.\n",
      "Found 2000 images belonging to 2 classes.\n"
     ]
    }
   ],
   "source": [
    "# load and iterate training dataset\n",
    "train_it = train_datagen.flow_from_directory('./dataset/training_set/', class_mode='binary',target_size=(64, 64),color_mode=\"rgb\",batch_size=32,shuffle=True, seed=42)\n",
    "\n",
    "# load and iterate validation dataset\n",
    "val_it = val_datagen.flow_from_directory('./dataset/single_prediction/', class_mode='binary', batch_size=32,target_size=(64, 64))\n",
    "# load and iterate test dataset\n",
    "test_it = test_datagen.flow_from_directory('./dataset/test_set/', class_mode='binary',target_size=(64, 64),color_mode=\"rgb\",\n",
    "                                       batch_size=32,shuffle=True, seed=42)\n"
   ]
  },
  {
   "cell_type": "code",
   "execution_count": 5,
   "metadata": {
    "colab": {
     "base_uri": "https://localhost:8080/",
     "height": 34
    },
    "colab_type": "code",
    "id": "sJAcKHbCY5DY",
    "outputId": "9995d940-739d-4849-a22b-82ae8c4eafa7"
   },
   "outputs": [
    {
     "name": "stdout",
     "output_type": "stream",
     "text": [
      "<class 'keras_preprocessing.image.directory_iterator.DirectoryIterator'>\n"
     ]
    }
   ],
   "source": [
    "print(type(train_it))"
   ]
  },
  {
   "cell_type": "code",
   "execution_count": 6,
   "metadata": {
    "colab": {
     "base_uri": "https://localhost:8080/",
     "height": 34
    },
    "colab_type": "code",
    "id": "sqpg3OZTunWH",
    "outputId": "c7e9abdd-5a9c-4b2b-ce5b-7e8e170fce95"
   },
   "outputs": [
    {
     "name": "stdout",
     "output_type": "stream",
     "text": [
      "Batch shape=(32, 64, 64, 3), min=0.000, max=1.000\n"
     ]
    }
   ],
   "source": [
    "# confirm the iterator works\n",
    "batchX, batchy = train_it.next()\n",
    "print('Batch shape=%s, min=%.3f, max=%.3f' % (batchX.shape, batchX.min(), batchX.max()))"
   ]
  },
  {
   "cell_type": "code",
   "execution_count": 7,
   "metadata": {
    "colab": {
     "base_uri": "https://localhost:8080/",
     "height": 34
    },
    "colab_type": "code",
    "id": "pKbQAL69-wmH",
    "outputId": "36ef969a-0804-483e-aa94-2caf420b5415"
   },
   "outputs": [
    {
     "name": "stdout",
     "output_type": "stream",
     "text": [
      "<class 'numpy.ndarray'>\n"
     ]
    }
   ],
   "source": [
    "print(type(batchX))"
   ]
  },
  {
   "cell_type": "code",
   "execution_count": 21,
   "metadata": {
    "colab": {},
    "colab_type": "code",
    "id": "O36Z5FCqu1F5"
   },
   "outputs": [],
   "source": [
    "def model_4_layers():\n",
    "    num_classes =2\n",
    " \n",
    "    model = Sequential()\n",
    "    model.add(Conv2D(32, (3, 3), padding='same', input_shape=(3,64,64), activation='relu')) # Layer 1\n",
    "    model.add(MaxPooling2D(pool_size=(2, 2)))\n",
    "    \n",
    "    model.add(Conv2D(32,(3, 3), activation='relu' )) # Layer 2\n",
    "    model.add(Dropout(0.25)) #reducing overfitting and improving the generalization of deep neural networks.\n",
    " \n",
    "    model.add(Conv2D(64, (3, 3), padding='same', activation='relu')) # Layer 3\n",
    "    model.add(MaxPooling2D(pool_size=(2, 2)))\n",
    "    model.add(Conv2D(64, (3, 3), padding='same', activation='relu')) # Layer 4\n",
    "    model.add(Dropout(0.25))\n",
    " \n",
    "    model.add(Flatten())\n",
    "    model.add(Dense(512,activation='relu' ))\n",
    "    model.add(Dropout(0.5))\n",
    "    model.add(Dense(num_classes, activation='softmax'))\n",
    "    \n",
    "    # Compile model \n",
    "    model.compile(loss='binary_crossentropy', optimizer='adam', metrics=['accuracy'])\n",
    "    return model\n",
    "\n",
    "cnn_4 = model_4_layers()"
   ]
  },
  {
   "cell_type": "code",
   "execution_count": 22,
   "metadata": {
    "colab": {
     "base_uri": "https://localhost:8080/",
     "height": 580
    },
    "colab_type": "code",
    "id": "LO5xq_nruyWK",
    "outputId": "ae2b3c9b-a3f9-4365-8580-bf07af31525d"
   },
   "outputs": [
    {
     "name": "stdout",
     "output_type": "stream",
     "text": [
      "Model: \"sequential_1\"\n",
      "_________________________________________________________________\n",
      "Layer (type)                 Output Shape              Param #   \n",
      "=================================================================\n",
      "conv2d_4 (Conv2D)            (None, 64, 64, 32)        896       \n",
      "_________________________________________________________________\n",
      "max_pooling2d_2 (MaxPooling2 (None, 32, 32, 32)        0         \n",
      "_________________________________________________________________\n",
      "conv2d_5 (Conv2D)            (None, 30, 30, 32)        9248      \n",
      "_________________________________________________________________\n",
      "dropout_3 (Dropout)          (None, 30, 30, 32)        0         \n",
      "_________________________________________________________________\n",
      "conv2d_6 (Conv2D)            (None, 30, 30, 64)        18496     \n",
      "_________________________________________________________________\n",
      "max_pooling2d_3 (MaxPooling2 (None, 15, 15, 64)        0         \n",
      "_________________________________________________________________\n",
      "conv2d_7 (Conv2D)            (None, 15, 15, 64)        36928     \n",
      "_________________________________________________________________\n",
      "dropout_4 (Dropout)          (None, 15, 15, 64)        0         \n",
      "_________________________________________________________________\n",
      "flatten_1 (Flatten)          (None, 14400)             0         \n",
      "_________________________________________________________________\n",
      "dense_2 (Dense)              (None, 256)               3686656   \n",
      "_________________________________________________________________\n",
      "dropout_5 (Dropout)          (None, 256)               0         \n",
      "_________________________________________________________________\n",
      "dense_3 (Dense)              (None, 1)                 257       \n",
      "=================================================================\n",
      "Total params: 3,752,481\n",
      "Trainable params: 3,752,481\n",
      "Non-trainable params: 0\n",
      "_________________________________________________________________\n"
     ]
    }
   ],
   "source": [
    "cnn_4.summary()"
   ]
  },
  {
   "cell_type": "code",
   "execution_count": 23,
   "metadata": {
    "colab": {},
    "colab_type": "code",
    "id": "h9zWDbeZH3o4"
   },
   "outputs": [],
   "source": [
    "# Declare variables\n",
    "batch_size = 32 # 32 examples in a mini-batch, smaller batch size means more updates in one epoch\n",
    "num_classes = 1 # number of outputs possible\n",
    "epochs =  50 # repeat "
   ]
  },
  {
   "cell_type": "code",
   "execution_count": 24,
   "metadata": {
    "colab": {
     "base_uri": "https://localhost:8080/",
     "height": 475
    },
    "colab_type": "code",
    "id": "8ZXauOKTHAAp",
    "outputId": "c054e01f-a32f-4cbd-b215-f705b7dafb7f"
   },
   "outputs": [
    {
     "name": "stdout",
     "output_type": "stream",
     "text": [
      "Epoch 1/10\n",
      "250/250 [==============================] - 91s 366ms/step - loss: 7.6666 - accuracy: 0.5000 - val_loss: 7.6898 - val_accuracy: 0.4985\n",
      "Epoch 2/10\n",
      "250/250 [==============================] - 86s 345ms/step - loss: 7.6666 - accuracy: 0.5000 - val_loss: 7.6898 - val_accuracy: 0.4985\n",
      "Epoch 3/10\n",
      "250/250 [==============================] - 93s 372ms/step - loss: 7.6666 - accuracy: 0.5000 - val_loss: 7.6898 - val_accuracy: 0.4985\n",
      "Epoch 4/10\n",
      "250/250 [==============================] - 94s 374ms/step - loss: 7.6666 - accuracy: 0.5000 - val_loss: 7.6898 - val_accuracy: 0.4985\n",
      "Epoch 5/10\n",
      "250/250 [==============================] - 91s 363ms/step - loss: 7.6666 - accuracy: 0.5000 - val_loss: 7.6898 - val_accuracy: 0.4985\n",
      "Epoch 6/10\n",
      "250/250 [==============================] - 92s 369ms/step - loss: 7.6666 - accuracy: 0.5000 - val_loss: 7.6898 - val_accuracy: 0.4985\n",
      "Epoch 7/10\n",
      "250/250 [==============================] - 87s 349ms/step - loss: 7.6666 - accuracy: 0.5000 - val_loss: 7.6898 - val_accuracy: 0.4985\n",
      "Epoch 8/10\n",
      "250/250 [==============================] - 98s 393ms/step - loss: 7.6666 - accuracy: 0.5000 - val_loss: 7.6898 - val_accuracy: 0.4985\n",
      "Epoch 9/10\n",
      "250/250 [==============================] - 87s 348ms/step - loss: 7.6666 - accuracy: 0.5000 - val_loss: 7.6898 - val_accuracy: 0.4985\n",
      "Epoch 10/10\n",
      "250/250 [==============================] - 88s 350ms/step - loss: 7.6666 - accuracy: 0.5000 - val_loss: 7.6898 - val_accuracy: 0.4985\n"
     ]
    },
    {
     "data": {
      "text/plain": [
       "<tensorflow.python.keras.callbacks.History at 0x2369bb049b0>"
      ]
     },
     "execution_count": 24,
     "metadata": {},
     "output_type": "execute_result"
    }
   ],
   "source": [
    "STEP_SIZE_TRAIN=train_it.n//train_it.batch_size\n",
    "STEP_SIZE_VALID=test_it.n//test_it.batch_size\n",
    "cnn_4.fit_generator(generator=train_it,\n",
    "                    steps_per_epoch=STEP_SIZE_TRAIN,\n",
    "                    validation_data=test_it,\n",
    "                    validation_steps=STEP_SIZE_VALID,\n",
    "                    epochs=10\n",
    ")"
   ]
  },
  {
   "cell_type": "code",
   "execution_count": 64,
   "metadata": {
    "colab": {},
    "colab_type": "code",
    "id": "h5LKXxdjHvqN"
   },
   "outputs": [
    {
     "name": "stdout",
     "output_type": "stream",
     "text": [
      "Accuracy: 50.00%\n"
     ]
    }
   ],
   "source": [
    "scores4l = cnn_4.evaluate(test_it, verbose=0)\n",
    "print(\"Accuracy: %.2f%%\" % (scores4l[1]*100))"
   ]
  },
  {
   "cell_type": "markdown",
   "metadata": {},
   "source": [
    "**Evaluate the model**"
   ]
  },
  {
   "cell_type": "code",
   "execution_count": 65,
   "metadata": {},
   "outputs": [
    {
     "data": {
      "text/plain": [
       "[7.689804792404175, 0.4984879]"
      ]
     },
     "execution_count": 65,
     "metadata": {},
     "output_type": "execute_result"
    }
   ],
   "source": [
    "cnn_4.evaluate_generator(generator=test_it,\n",
    "steps=STEP_SIZE_VALID)"
   ]
  },
  {
   "cell_type": "markdown",
   "metadata": {},
   "source": [
    "**Save your model**"
   ]
  },
  {
   "cell_type": "code",
   "execution_count": 66,
   "metadata": {},
   "outputs": [],
   "source": [
    "cnn_4.save(\"cnn4.h5\")"
   ]
  },
  {
   "cell_type": "code",
   "execution_count": 67,
   "metadata": {},
   "outputs": [],
   "source": [
    "STEP_SIZE_val=val_it.n//val_it.batch_size\n",
    "val_it.reset()\n",
    "pred=cnn_4.predict_generator(val_it,\n",
    "steps=STEP_SIZE_val)"
   ]
  },
  {
   "cell_type": "code",
   "execution_count": 68,
   "metadata": {},
   "outputs": [
    {
     "name": "stdout",
     "output_type": "stream",
     "text": [
      "[]\n"
     ]
    }
   ],
   "source": [
    "print(pred)"
   ]
  },
  {
   "cell_type": "code",
   "execution_count": 69,
   "metadata": {},
   "outputs": [
    {
     "name": "stdout",
     "output_type": "stream",
     "text": [
      "cat\n"
     ]
    }
   ],
   "source": [
    "train_it.class_indices\n",
    "if pred == 1:\n",
    "    prediction = 'dog'\n",
    "else:\n",
    "    prediction = 'cat'\n",
    "print(prediction)"
   ]
  },
  {
   "cell_type": "code",
   "execution_count": 63,
   "metadata": {},
   "outputs": [
    {
     "name": "stdout",
     "output_type": "stream",
     "text": [
      "dog\n"
     ]
    }
   ],
   "source": [
    "test_image = image.load_img('./dataset/single_prediction/cats/cat_or_dog_2.jpg', target_size = (64, 64))\n",
    "test_image = image.img_to_array(test_image)\n",
    "test_image = np.expand_dims(test_image, axis = 0)\n",
    "result = cnn_4.predict(test_image)\n",
    "train_it.class_indices\n",
    "if result[0][0] == 1:\n",
    "    prediction = 'dog'\n",
    "else:\n",
    "    prediction = 'cat'\n",
    "print(prediction)"
   ]
  },
  {
   "cell_type": "code",
   "execution_count": null,
   "metadata": {},
   "outputs": [],
   "source": []
  }
 ],
 "metadata": {
  "accelerator": "GPU",
  "colab": {
   "collapsed_sections": [],
   "machine_shape": "hm",
   "name": "Dogs vs cats.ipynb",
   "provenance": [],
   "toc_visible": true,
   "version": "0.3.2"
  },
  "kernelspec": {
   "display_name": "Python 3",
   "language": "python",
   "name": "python3"
  },
  "language_info": {
   "codemirror_mode": {
    "name": "ipython",
    "version": 3
   },
   "file_extension": ".py",
   "mimetype": "text/x-python",
   "name": "python",
   "nbconvert_exporter": "python",
   "pygments_lexer": "ipython3",
   "version": "3.6.4"
  }
 },
 "nbformat": 4,
 "nbformat_minor": 1
}

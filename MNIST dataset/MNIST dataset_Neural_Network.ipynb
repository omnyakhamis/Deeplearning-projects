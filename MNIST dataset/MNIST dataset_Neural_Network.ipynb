{
 "cells": [
  {
   "cell_type": "markdown",
   "metadata": {},
   "source": [
    "### Import some tools"
   ]
  },
  {
   "cell_type": "code",
   "execution_count": 1,
   "metadata": {},
   "outputs": [
    {
     "name": "stderr",
     "output_type": "stream",
     "text": [
      "C:\\Anaconda3\\envs\\py3-TF2\\lib\\site-packages\\h5py\\__init__.py:36: FutureWarning: Conversion of the second argument of issubdtype from `float` to `np.floating` is deprecated. In future, it will be treated as `np.float64 == np.dtype(float).type`.\n",
      "  from ._conv import register_converters as _register_converters\n"
     ]
    }
   ],
   "source": [
    "import numpy as np\n",
    "import tensorflow.keras\n",
    "from tensorflow.keras.datasets import mnist\n",
    "from tensorflow.keras.models import Sequential\n",
    "from tensorflow.keras.layers import Dense, Dropout, Flatten\n",
    "from tensorflow.keras.layers import Conv2D, MaxPooling2D\n",
    "from tensorflow.keras import backend as K"
   ]
  },
  {
   "cell_type": "code",
   "execution_count": 2,
   "metadata": {},
   "outputs": [
    {
     "name": "stdout",
     "output_type": "stream",
     "text": [
      "<class 'module'>\n"
     ]
    }
   ],
   "source": [
    "# First we'll download the data. \n",
    "# The data, shuffled and split between train and test sets.\n",
    "print(type(mnist))\n",
    "(x_train_raw, y_train_raw), (x_test_raw, y_test_raw) = mnist.load_data()"
   ]
  },
  {
   "cell_type": "code",
   "execution_count": 3,
   "metadata": {},
   "outputs": [
    {
     "data": {
      "text/plain": [
       "numpy.ndarray"
      ]
     },
     "execution_count": 3,
     "metadata": {},
     "output_type": "execute_result"
    }
   ],
   "source": [
    "### ENTER YOUR CODE HERE ###\n",
    "type(x_train_raw)"
   ]
  },
  {
   "cell_type": "code",
   "execution_count": 4,
   "metadata": {},
   "outputs": [
    {
     "data": {
      "text/plain": [
       "numpy.ndarray"
      ]
     },
     "execution_count": 4,
     "metadata": {},
     "output_type": "execute_result"
    }
   ],
   "source": [
    "type(y_train_raw)"
   ]
  },
  {
   "cell_type": "code",
   "execution_count": 5,
   "metadata": {},
   "outputs": [
    {
     "data": {
      "text/plain": [
       "(60000, 28, 28)"
      ]
     },
     "execution_count": 5,
     "metadata": {},
     "output_type": "execute_result"
    }
   ],
   "source": [
    "### ENTER YOUR CODE HERE ###\n",
    "x_train_raw.shape"
   ]
  },
  {
   "cell_type": "code",
   "execution_count": 6,
   "metadata": {},
   "outputs": [
    {
     "data": {
      "text/plain": [
       "(60000,)"
      ]
     },
     "execution_count": 6,
     "metadata": {},
     "output_type": "execute_result"
    }
   ],
   "source": [
    "y_train_raw.shape"
   ]
  },
  {
   "cell_type": "code",
   "execution_count": 7,
   "metadata": {},
   "outputs": [
    {
     "data": {
      "text/plain": [
       "<Figure size 640x480 with 1 Axes>"
      ]
     },
     "metadata": {},
     "output_type": "display_data"
    },
    {
     "name": "stdout",
     "output_type": "stream",
     "text": [
      "This image represents the number 3\n"
     ]
    }
   ],
   "source": [
    "# Import matplotlib\n",
    "import matplotlib.pyplot as plt \n",
    "\n",
    "# Change the value of i and re-run this cell to look at different samples. There's 60,000 to choose from!\n",
    "i = 10\n",
    "\n",
    "plt.imshow(x_train_raw[i], cmap='Greys', interpolation='nearest')\n",
    "plt.show()\n",
    "\n",
    "print('This image represents the number', y_train_raw[i])"
   ]
  },
  {
   "cell_type": "code",
   "execution_count": 8,
   "metadata": {},
   "outputs": [
    {
     "name": "stdout",
     "output_type": "stream",
     "text": [
      "[[  0   0   0   0   0   0   0   0   0   0   0   0   0   0   0   0   0   0\n",
      "    0   0   0   0   0   0   0   0   0   0]\n",
      " [  0   0   0   0   0   0   0   0   0   0   0   0   0   0   0   0   0   0\n",
      "    0   0   0   0   0   0   0   0   0   0]\n",
      " [  0   0   0   0   0   0   0   0   0   0   0   0   0   0   0   0   0   0\n",
      "    0   0   0   0   0   0   0   0   0   0]\n",
      " [  0   0   0   0   0   0   0   0   0   0   0   0   0   0   0   0   0   0\n",
      "    0   0   0   0   0   0   0   0   0   0]\n",
      " [  0   0   0   0   0   0   0   0   0   0   0  42 118 219 166 118 118   6\n",
      "    0   0   0   0   0   0   0   0   0   0]\n",
      " [  0   0   0   0   0   0   0   0   0   0 103 242 254 254 254 254 254  66\n",
      "    0   0   0   0   0   0   0   0   0   0]\n",
      " [  0   0   0   0   0   0   0   0   0   0  18 232 254 254 254 254 254 238\n",
      "   70   0   0   0   0   0   0   0   0   0]\n",
      " [  0   0   0   0   0   0   0   0   0   0   0 104 244 254 224 254 254 254\n",
      "  141   0   0   0   0   0   0   0   0   0]\n",
      " [  0   0   0   0   0   0   0   0   0   0   0   0 207 254 210 254 254 254\n",
      "   34   0   0   0   0   0   0   0   0   0]\n",
      " [  0   0   0   0   0   0   0   0   0   0   0   0  84 206 254 254 254 254\n",
      "   41   0   0   0   0   0   0   0   0   0]\n",
      " [  0   0   0   0   0   0   0   0   0   0   0   0   0  24 209 254 254 254\n",
      "  171   0   0   0   0   0   0   0   0   0]\n",
      " [  0   0   0   0   0   0   0   0   0   0   0   0  91 137 253 254 254 254\n",
      "  112   0   0   0   0   0   0   0   0   0]\n",
      " [  0   0   0   0   0   0   0   0   0   0  40 214 250 254 254 254 254 254\n",
      "   34   0   0   0   0   0   0   0   0   0]\n",
      " [  0   0   0   0   0   0   0   0   0   0  81 247 254 254 254 254 254 254\n",
      "  146   0   0   0   0   0   0   0   0   0]\n",
      " [  0   0   0   0   0   0   0   0   0   0   0 110 246 254 254 254 254 254\n",
      "  171   0   0   0   0   0   0   0   0   0]\n",
      " [  0   0   0   0   0   0   0   0   0   0   0   0  73  89  89  93 240 254\n",
      "  171   0   0   0   0   0   0   0   0   0]\n",
      " [  0   0   0   0   0   0   0   0   0   0   0   0   0   0   0   1 128 254\n",
      "  219  31   0   0   0   0   0   0   0   0]\n",
      " [  0   0   0   0   0   0   0   0   0   0   0   0   0   0   0   7 254 254\n",
      "  214  28   0   0   0   0   0   0   0   0]\n",
      " [  0   0   0   0   0   0   0   0   0   0   0   0   0   0   0 138 254 254\n",
      "  116   0   0   0   0   0   0   0   0   0]\n",
      " [  0   0   0   0   0   0  19 177  90   0   0   0   0   0  25 240 254 254\n",
      "   34   0   0   0   0   0   0   0   0   0]\n",
      " [  0   0   0   0   0   0 164 254 215  63  36   0  51  89 206 254 254 139\n",
      "    8   0   0   0   0   0   0   0   0   0]\n",
      " [  0   0   0   0   0   0  57 197 254 254 222 180 241 254 254 253 213  11\n",
      "    0   0   0   0   0   0   0   0   0   0]\n",
      " [  0   0   0   0   0   0   0 140 105 254 254 254 254 254 254 236   0   0\n",
      "    0   0   0   0   0   0   0   0   0   0]\n",
      " [  0   0   0   0   0   0   0   0   7 117 117 165 254 254 239  50   0   0\n",
      "    0   0   0   0   0   0   0   0   0   0]\n",
      " [  0   0   0   0   0   0   0   0   0   0   0   0   0   0   0   0   0   0\n",
      "    0   0   0   0   0   0   0   0   0   0]\n",
      " [  0   0   0   0   0   0   0   0   0   0   0   0   0   0   0   0   0   0\n",
      "    0   0   0   0   0   0   0   0   0   0]\n",
      " [  0   0   0   0   0   0   0   0   0   0   0   0   0   0   0   0   0   0\n",
      "    0   0   0   0   0   0   0   0   0   0]\n",
      " [  0   0   0   0   0   0   0   0   0   0   0   0   0   0   0   0   0   0\n",
      "    0   0   0   0   0   0   0   0   0   0]]\n"
     ]
    }
   ],
   "source": [
    "# This image equal this array\n",
    "print(x_train_raw[i])"
   ]
  },
  {
   "cell_type": "code",
   "execution_count": 9,
   "metadata": {},
   "outputs": [
    {
     "data": {
      "image/png": "[encoded data removed]",
      "text/plain": [
       "<Figure size 432x432 with 64 Axes>"
      ]
     },
     "metadata": {},
     "output_type": "display_data"
    }
   ],
   "source": [
    "# Import matplotlib\n",
    "import matplotlib.pyplot as plt\n",
    "\n",
    "# Figure size (width, height) in inches\n",
    "fig = plt.figure(figsize=(6, 6))\n",
    "\n",
    "# Adjust the subplots \n",
    "fig.subplots_adjust(left=0, right=1, bottom=0, top=1, hspace=0.05, wspace=0.05)\n",
    "\n",
    "# For each of the 64 images\n",
    "for i in range(64):\n",
    "    # Initialize the subplots: add a subplot in the grid of 8 by 8, at the i+1-th position\n",
    "    ax = fig.add_subplot(8, 8, i + 1, xticks=[], yticks=[])\n",
    "    # Display an image at the i-th position\n",
    "    ax.imshow(x_train_raw[i], cmap=plt.cm.binary, interpolation='nearest')\n",
    "    # label the image with the target value\n",
    "    ax.text(0, 7, str(y_train_raw[i]))\n",
    "\n",
    "# Show the plot\n",
    "plt.show()"
   ]
  },
  {
   "cell_type": "markdown",
   "metadata": {},
   "source": [
    "### Preparing the data for training\n",
    "\n",
    "#### Reshaping x\n"
   ]
  },
  {
   "cell_type": "code",
   "execution_count": 10,
   "metadata": {},
   "outputs": [],
   "source": [
    "### ENTER YOUR CODE HERE ### (2 lines)\n",
    "x_train = x_train_raw.reshape(60000, 784)\n",
    "x_test = x_test_raw.reshape(10000, 784)"
   ]
  },
  {
   "cell_type": "code",
   "execution_count": 11,
   "metadata": {},
   "outputs": [
    {
     "name": "stdout",
     "output_type": "stream",
     "text": [
      "Shape of x_train_raw: (60000, 784)\n",
      "Shape of y_train_raw: (10000, 784)\n"
     ]
    }
   ],
   "source": [
    "# Let's see what we're working with here\n",
    "print('Shape of x_train_raw:', x_train.shape)\n",
    "print('Shape of y_train_raw:', x_test.shape) "
   ]
  },
  {
   "cell_type": "code",
   "execution_count": 12,
   "metadata": {},
   "outputs": [
    {
     "data": {
      "text/plain": [
       "array([  0,   0,   0,   0,   0,   0,   0,   0,   0,   0,   0,   0,   0,\n",
       "         0,   0,   0,   0,   0,   0,   0,   0,   0,   0,   0,   0,   0,\n",
       "         0,   0,   0,   0,   0,   0,   0,   0,   0,   0,   0,   0,   0,\n",
       "         0,   0,   0,   0,   0,   0,   0,   0,   0,   0,   0,   0,   0,\n",
       "         0,   0,   0,   0,   0,   0,   0,   0,   0,   0,   0,   0,   0,\n",
       "         0,   0,   0,   0,   0,   0,   0,   0,   0,   0,   0,   0,   0,\n",
       "         0,   0,   0,   0,   0,   0,   0,   0,   0,   0,   0,   0,   0,\n",
       "         0,   0,   0,   0,   0,   0,   0,   0,   0,   0,   0,   0,   0,\n",
       "         0,   0,   0,   0,   0,   0,   0,   0,   0,   0,   0,   0,   0,\n",
       "         0,   0,   0,   0,   0,   0,   0,   0,   0,   0,   0,   0,   0,\n",
       "         0,   0,   0,   0,   0,   0,   0,   0,   0,   0,   0,   0,   0,\n",
       "         0,   0,   0,   0,   0,   0,   0,   0,   0,   0,   0,  21, 176,\n",
       "       253, 253, 124,   0,   0,   0,   0,   0,   0,   0,   0,   0,   0,\n",
       "         0,   0,   0,   0,   0,   0,   0,   0,   0,   0,   0,   0, 105,\n",
       "       176, 251, 251, 251, 251, 105,   0,   0,   0,   0,   0,   0,   0,\n",
       "         0,   0,   0,   0,   0,   0,   0,   0,   0,   0,   0,   0,  58,\n",
       "       217, 241, 253, 251, 251, 251, 251, 243, 113,   5,   0,   0,   0,\n",
       "         0,   0,   0,   0,   0,   0,   0,   0,   0,   0,   0,   0,   0,\n",
       "        63, 231, 251, 251, 253, 251, 251, 251, 251, 253, 251, 113,   0,\n",
       "         0,   0,   0,   0,   0,   0,   0,   0,   0,   0,   0,   0,   0,\n",
       "         0,   0, 144, 251, 251, 251, 253, 251, 251, 251, 251, 253, 251,\n",
       "       215,   0,   0,   0,   0,   0,   0,   0,   0,   0,   0,   0,   0,\n",
       "         0,   0,   0, 125, 253, 253, 253, 253, 255, 253, 253, 253, 253,\n",
       "       255, 253, 227,  42,   0,   0,   0,   0,   0,   0,   0,   0,   0,\n",
       "         0,   0,   0,   0,   0, 253, 251, 251, 251, 251, 253, 251, 251,\n",
       "       251, 251, 253, 251, 251, 142,   0,   0,   0,   0,   0,   0,   0,\n",
       "         0,   0,   0,   0,   0,   0,  27, 253, 251, 251, 235, 241, 253,\n",
       "       251, 246, 137,  35,  98, 251, 251, 236,  61,   0,   0,   0,   0,\n",
       "         0,   0,   0,   0,   0,   0,   0,  47, 211, 253, 251, 235,  82,\n",
       "       103, 253, 251, 137,   0,   0,  73, 251, 251, 251,  71,   0,   0,\n",
       "         0,   0,   0,   0,   0,   0,   0,   0,  27, 211, 251, 253, 251,\n",
       "        86,   0,   0,  72,  71,  10,   0,   0,  73, 251, 251, 173,  20,\n",
       "         0,   0,   0,   0,   0,   0,   0,   0,   0,   0,  89, 253, 253,\n",
       "       255, 253,  35,   0,   0,   0,   0,   0,   0,   0,  73, 253, 253,\n",
       "       253,  72,   0,   0,   0,   0,   0,   0,   0,   0,   0,  84, 236,\n",
       "       251, 251, 253, 251, 138,   0,   0,   0,   0,   0,   0,   0,  73,\n",
       "       251, 251, 251,  71,   0,   0,   0,   0,   0,   0,   0,   0,  63,\n",
       "       236, 251, 251, 251, 227, 251, 246, 138,  11,   0,   0,   0,  16,\n",
       "        37, 228, 251, 246, 137,  10,   0,   0,   0,   0,   0,   0,   0,\n",
       "         0,  73, 251, 251, 251, 173,  42, 142, 142, 142,  41,   0,   0,\n",
       "         0, 109, 251, 253, 251, 137,   0,   0,   0,   0,   0,   0,   0,\n",
       "         0,   0,   0,  73, 251, 251, 173,  20,   0,   0,   0,   0,   0,\n",
       "         0,   0,  27, 211, 251, 253, 147,  10,   0,   0,   0,   0,   0,\n",
       "         0,   0,   0,   0,   0,  73, 253, 253, 143,   0,   0,   0,   0,\n",
       "         0,   0,  21, 176, 253, 253, 253,   0,   0,   0,   0,   0,   0,\n",
       "         0,   0,   0,   0,   0,   0,   0,  73, 251, 251, 205, 144,   0,\n",
       "         0,   0,   0,   0, 176, 251, 251, 188, 107,   0,   0,   0,   0,\n",
       "         0,   0,   0,   0,   0,   0,   0,   0,   0,  62, 236, 251, 251,\n",
       "       251, 218, 217, 217, 217, 217, 253, 230, 189,  20,   0,   0,   0,\n",
       "         0,   0,   0,   0,   0,   0,   0,   0,   0,   0,   0,   0,  83,\n",
       "       158, 251, 251, 253, 251, 251, 251, 251, 253, 107,   0,   0,   0,\n",
       "         0,   0,   0,   0,   0,   0,   0,   0,   0,   0,   0,   0,   0,\n",
       "         0,   0,  37, 251, 251, 253, 251, 251, 251, 122,  72,  30,   0,\n",
       "         0,   0,   0,   0,   0,   0,   0,   0,   0,   0,   0,   0,   0,\n",
       "         0,   0,   0,   0,   0,   0,   0,   0,   0,   0,   0,   0,   0,\n",
       "         0,   0,   0,   0,   0,   0,   0,   0,   0,   0,   0,   0,   0,\n",
       "         0,   0,   0,   0,   0,   0,   0,   0,   0,   0,   0,   0,   0,\n",
       "         0,   0,   0,   0,   0,   0,   0,   0,   0,   0,   0,   0,   0,\n",
       "         0,   0,   0,   0,   0,   0,   0,   0,   0,   0,   0,   0,   0,\n",
       "         0,   0,   0,   0,   0,   0,   0,   0,   0,   0,   0,   0,   0,\n",
       "         0,   0,   0,   0], dtype=uint8)"
      ]
     },
     "execution_count": 12,
     "metadata": {},
     "output_type": "execute_result"
    }
   ],
   "source": [
    "x_train[i]\n",
    "#plt.imshow(x_train_raw[i], cmap='Greys', interpolation='nearest')\n",
    "#plt.show()\n",
    "\n",
    "#print('This image represents the number', y_train_raw[i])"
   ]
  },
  {
   "cell_type": "markdown",
   "metadata": {},
   "source": [
    "#### Rescaling x\n",
    "\n"
   ]
  },
  {
   "cell_type": "code",
   "execution_count": 13,
   "metadata": {},
   "outputs": [],
   "source": [
    "x_train = x_train.astype('float32')\n",
    "x_test = x_test.astype('float32')\n",
    "x_train /= 255\n",
    "x_test /= 255"
   ]
  },
  {
   "cell_type": "code",
   "execution_count": 14,
   "metadata": {},
   "outputs": [
    {
     "data": {
      "text/plain": [
       "array([0.        , 0.        , 0.        , 0.        , 0.        ,\n",
       "       0.        , 0.        , 0.        , 0.        , 0.        ,\n",
       "       0.        , 0.        , 0.        , 0.        , 0.        ,\n",
       "       0.        , 0.        , 0.        , 0.        , 0.        ,\n",
       "       0.        , 0.        , 0.        , 0.        , 0.        ,\n",
       "       0.        , 0.        , 0.        , 0.        , 0.        ,\n",
       "       0.        , 0.        , 0.        , 0.        , 0.        ,\n",
       "       0.        , 0.        , 0.        , 0.        , 0.        ,\n",
       "       0.        , 0.        , 0.        , 0.        , 0.        ,\n",
       "       0.        , 0.        , 0.        , 0.        , 0.        ,\n",
       "       0.        , 0.        , 0.        , 0.        , 0.        ,\n",
       "       0.        , 0.        , 0.        , 0.        , 0.        ,\n",
       "       0.        , 0.        , 0.        , 0.        , 0.        ,\n",
       "       0.        , 0.        , 0.        , 0.        , 0.        ,\n",
       "       0.        , 0.        , 0.        , 0.        , 0.        ,\n",
       "       0.        , 0.        , 0.        , 0.        , 0.        ,\n",
       "       0.        , 0.        , 0.        , 0.        , 0.        ,\n",
       "       0.        , 0.        , 0.        , 0.        , 0.        ,\n",
       "       0.        , 0.        , 0.        , 0.        , 0.        ,\n",
       "       0.        , 0.        , 0.        , 0.        , 0.        ,\n",
       "       0.        , 0.        , 0.        , 0.        , 0.        ,\n",
       "       0.        , 0.        , 0.        , 0.        , 0.        ,\n",
       "       0.        , 0.        , 0.        , 0.        , 0.        ,\n",
       "       0.        , 0.        , 0.        , 0.        , 0.        ,\n",
       "       0.        , 0.        , 0.        , 0.        , 0.        ,\n",
       "       0.        , 0.        , 0.        , 0.        , 0.        ,\n",
       "       0.        , 0.        , 0.        , 0.        , 0.        ,\n",
       "       0.        , 0.        , 0.        , 0.        , 0.        ,\n",
       "       0.        , 0.        , 0.        , 0.        , 0.        ,\n",
       "       0.        , 0.        , 0.        , 0.        , 0.        ,\n",
       "       0.        , 0.        , 0.        , 0.        , 0.08235294,\n",
       "       0.6901961 , 0.99215686, 0.99215686, 0.4862745 , 0.        ,\n",
       "       0.        , 0.        , 0.        , 0.        , 0.        ,\n",
       "       0.        , 0.        , 0.        , 0.        , 0.        ,\n",
       "       0.        , 0.        , 0.        , 0.        , 0.        ,\n",
       "       0.        , 0.        , 0.        , 0.        , 0.        ,\n",
       "       0.        , 0.4117647 , 0.6901961 , 0.9843137 , 0.9843137 ,\n",
       "       0.9843137 , 0.9843137 , 0.4117647 , 0.        , 0.        ,\n",
       "       0.        , 0.        , 0.        , 0.        , 0.        ,\n",
       "       0.        , 0.        , 0.        , 0.        , 0.        ,\n",
       "       0.        , 0.        , 0.        , 0.        , 0.        ,\n",
       "       0.        , 0.        , 0.22745098, 0.8509804 , 0.94509804,\n",
       "       0.99215686, 0.9843137 , 0.9843137 , 0.9843137 , 0.9843137 ,\n",
       "       0.9529412 , 0.44313726, 0.01960784, 0.        , 0.        ,\n",
       "       0.        , 0.        , 0.        , 0.        , 0.        ,\n",
       "       0.        , 0.        , 0.        , 0.        , 0.        ,\n",
       "       0.        , 0.        , 0.        , 0.        , 0.24705882,\n",
       "       0.90588236, 0.9843137 , 0.9843137 , 0.99215686, 0.9843137 ,\n",
       "       0.9843137 , 0.9843137 , 0.9843137 , 0.99215686, 0.9843137 ,\n",
       "       0.44313726, 0.        , 0.        , 0.        , 0.        ,\n",
       "       0.        , 0.        , 0.        , 0.        , 0.        ,\n",
       "       0.        , 0.        , 0.        , 0.        , 0.        ,\n",
       "       0.        , 0.        , 0.5647059 , 0.9843137 , 0.9843137 ,\n",
       "       0.9843137 , 0.99215686, 0.9843137 , 0.9843137 , 0.9843137 ,\n",
       "       0.9843137 , 0.99215686, 0.9843137 , 0.84313726, 0.        ,\n",
       "       0.        , 0.        , 0.        , 0.        , 0.        ,\n",
       "       0.        , 0.        , 0.        , 0.        , 0.        ,\n",
       "       0.        , 0.        , 0.        , 0.        , 0.49019608,\n",
       "       0.99215686, 0.99215686, 0.99215686, 0.99215686, 1.        ,\n",
       "       0.99215686, 0.99215686, 0.99215686, 0.99215686, 1.        ,\n",
       "       0.99215686, 0.8901961 , 0.16470589, 0.        , 0.        ,\n",
       "       0.        , 0.        , 0.        , 0.        , 0.        ,\n",
       "       0.        , 0.        , 0.        , 0.        , 0.        ,\n",
       "       0.        , 0.        , 0.99215686, 0.9843137 , 0.9843137 ,\n",
       "       0.9843137 , 0.9843137 , 0.99215686, 0.9843137 , 0.9843137 ,\n",
       "       0.9843137 , 0.9843137 , 0.99215686, 0.9843137 , 0.9843137 ,\n",
       "       0.5568628 , 0.        , 0.        , 0.        , 0.        ,\n",
       "       0.        , 0.        , 0.        , 0.        , 0.        ,\n",
       "       0.        , 0.        , 0.        , 0.        , 0.10588235,\n",
       "       0.99215686, 0.9843137 , 0.9843137 , 0.92156863, 0.94509804,\n",
       "       0.99215686, 0.9843137 , 0.9647059 , 0.5372549 , 0.13725491,\n",
       "       0.38431373, 0.9843137 , 0.9843137 , 0.9254902 , 0.23921569,\n",
       "       0.        , 0.        , 0.        , 0.        , 0.        ,\n",
       "       0.        , 0.        , 0.        , 0.        , 0.        ,\n",
       "       0.        , 0.18431373, 0.827451  , 0.99215686, 0.9843137 ,\n",
       "       0.92156863, 0.32156864, 0.40392157, 0.99215686, 0.9843137 ,\n",
       "       0.5372549 , 0.        , 0.        , 0.28627452, 0.9843137 ,\n",
       "       0.9843137 , 0.9843137 , 0.2784314 , 0.        , 0.        ,\n",
       "       0.        , 0.        , 0.        , 0.        , 0.        ,\n",
       "       0.        , 0.        , 0.        , 0.10588235, 0.827451  ,\n",
       "       0.9843137 , 0.99215686, 0.9843137 , 0.3372549 , 0.        ,\n",
       "       0.        , 0.28235295, 0.2784314 , 0.03921569, 0.        ,\n",
       "       0.        , 0.28627452, 0.9843137 , 0.9843137 , 0.6784314 ,\n",
       "       0.07843138, 0.        , 0.        , 0.        , 0.        ,\n",
       "       0.        , 0.        , 0.        , 0.        , 0.        ,\n",
       "       0.        , 0.34901962, 0.99215686, 0.99215686, 1.        ,\n",
       "       0.99215686, 0.13725491, 0.        , 0.        , 0.        ,\n",
       "       0.        , 0.        , 0.        , 0.        , 0.28627452,\n",
       "       0.99215686, 0.99215686, 0.99215686, 0.28235295, 0.        ,\n",
       "       0.        , 0.        , 0.        , 0.        , 0.        ,\n",
       "       0.        , 0.        , 0.        , 0.32941177, 0.9254902 ,\n",
       "       0.9843137 , 0.9843137 , 0.99215686, 0.9843137 , 0.5411765 ,\n",
       "       0.        , 0.        , 0.        , 0.        , 0.        ,\n",
       "       0.        , 0.        , 0.28627452, 0.9843137 , 0.9843137 ,\n",
       "       0.9843137 , 0.2784314 , 0.        , 0.        , 0.        ,\n",
       "       0.        , 0.        , 0.        , 0.        , 0.        ,\n",
       "       0.24705882, 0.9254902 , 0.9843137 , 0.9843137 , 0.9843137 ,\n",
       "       0.8901961 , 0.9843137 , 0.9647059 , 0.5411765 , 0.04313726,\n",
       "       0.        , 0.        , 0.        , 0.0627451 , 0.14509805,\n",
       "       0.89411765, 0.9843137 , 0.9647059 , 0.5372549 , 0.03921569,\n",
       "       0.        , 0.        , 0.        , 0.        , 0.        ,\n",
       "       0.        , 0.        , 0.        , 0.28627452, 0.9843137 ,\n",
       "       0.9843137 , 0.9843137 , 0.6784314 , 0.16470589, 0.5568628 ,\n",
       "       0.5568628 , 0.5568628 , 0.16078432, 0.        , 0.        ,\n",
       "       0.        , 0.42745098, 0.9843137 , 0.99215686, 0.9843137 ,\n",
       "       0.5372549 , 0.        , 0.        , 0.        , 0.        ,\n",
       "       0.        , 0.        , 0.        , 0.        , 0.        ,\n",
       "       0.        , 0.28627452, 0.9843137 , 0.9843137 , 0.6784314 ,\n",
       "       0.07843138, 0.        , 0.        , 0.        , 0.        ,\n",
       "       0.        , 0.        , 0.        , 0.10588235, 0.827451  ,\n",
       "       0.9843137 , 0.99215686, 0.5764706 , 0.03921569, 0.        ,\n",
       "       0.        , 0.        , 0.        , 0.        , 0.        ,\n",
       "       0.        , 0.        , 0.        , 0.        , 0.28627452,\n",
       "       0.99215686, 0.99215686, 0.56078434, 0.        , 0.        ,\n",
       "       0.        , 0.        , 0.        , 0.        , 0.08235294,\n",
       "       0.6901961 , 0.99215686, 0.99215686, 0.99215686, 0.        ,\n",
       "       0.        , 0.        , 0.        , 0.        , 0.        ,\n",
       "       0.        , 0.        , 0.        , 0.        , 0.        ,\n",
       "       0.        , 0.        , 0.28627452, 0.9843137 , 0.9843137 ,\n",
       "       0.8039216 , 0.5647059 , 0.        , 0.        , 0.        ,\n",
       "       0.        , 0.        , 0.6901961 , 0.9843137 , 0.9843137 ,\n",
       "       0.7372549 , 0.41960785, 0.        , 0.        , 0.        ,\n",
       "       0.        , 0.        , 0.        , 0.        , 0.        ,\n",
       "       0.        , 0.        , 0.        , 0.        , 0.        ,\n",
       "       0.24313726, 0.9254902 , 0.9843137 , 0.9843137 , 0.9843137 ,\n",
       "       0.85490197, 0.8509804 , 0.8509804 , 0.8509804 , 0.8509804 ,\n",
       "       0.99215686, 0.9019608 , 0.7411765 , 0.07843138, 0.        ,\n",
       "       0.        , 0.        , 0.        , 0.        , 0.        ,\n",
       "       0.        , 0.        , 0.        , 0.        , 0.        ,\n",
       "       0.        , 0.        , 0.        , 0.        , 0.3254902 ,\n",
       "       0.61960787, 0.9843137 , 0.9843137 , 0.99215686, 0.9843137 ,\n",
       "       0.9843137 , 0.9843137 , 0.9843137 , 0.99215686, 0.41960785,\n",
       "       0.        , 0.        , 0.        , 0.        , 0.        ,\n",
       "       0.        , 0.        , 0.        , 0.        , 0.        ,\n",
       "       0.        , 0.        , 0.        , 0.        , 0.        ,\n",
       "       0.        , 0.        , 0.        , 0.14509805, 0.9843137 ,\n",
       "       0.9843137 , 0.99215686, 0.9843137 , 0.9843137 , 0.9843137 ,\n",
       "       0.47843137, 0.28235295, 0.11764706, 0.        , 0.        ,\n",
       "       0.        , 0.        , 0.        , 0.        , 0.        ,\n",
       "       0.        , 0.        , 0.        , 0.        , 0.        ,\n",
       "       0.        , 0.        , 0.        , 0.        , 0.        ,\n",
       "       0.        , 0.        , 0.        , 0.        , 0.        ,\n",
       "       0.        , 0.        , 0.        , 0.        , 0.        ,\n",
       "       0.        , 0.        , 0.        , 0.        , 0.        ,\n",
       "       0.        , 0.        , 0.        , 0.        , 0.        ,\n",
       "       0.        , 0.        , 0.        , 0.        , 0.        ,\n",
       "       0.        , 0.        , 0.        , 0.        , 0.        ,\n",
       "       0.        , 0.        , 0.        , 0.        , 0.        ,\n",
       "       0.        , 0.        , 0.        , 0.        , 0.        ,\n",
       "       0.        , 0.        , 0.        , 0.        , 0.        ,\n",
       "       0.        , 0.        , 0.        , 0.        , 0.        ,\n",
       "       0.        , 0.        , 0.        , 0.        , 0.        ,\n",
       "       0.        , 0.        , 0.        , 0.        , 0.        ,\n",
       "       0.        , 0.        , 0.        , 0.        , 0.        ,\n",
       "       0.        , 0.        , 0.        , 0.        , 0.        ,\n",
       "       0.        , 0.        , 0.        , 0.        , 0.        ,\n",
       "       0.        , 0.        , 0.        , 0.        ], dtype=float32)"
      ]
     },
     "execution_count": 14,
     "metadata": {},
     "output_type": "execute_result"
    }
   ],
   "source": [
    "x_train[i]"
   ]
  },
  {
   "cell_type": "markdown",
   "metadata": {},
   "source": [
    "Now all RGB's values have been converted to values ranging from 0 to 1."
   ]
  },
  {
   "cell_type": "markdown",
   "metadata": {},
   "source": [
    "#### Categorical encoding y"
   ]
  },
  {
   "cell_type": "raw",
   "metadata": {},
   "source": [
    "from keras.utils.np_utils import to_categorical\n",
    "\n",
    "### Convert `y_train_raw` and `y_test_raw` to binary class matrices\n",
    "### ENTER YOUR CODE HERE ### (2 lines)\n",
    "y_train = to_categorical(y_train_raw,num_classes=10,dtype='float32')\n",
    "y_test = to_categorical(y_test_raw,num_classes=10,dtype='float32')\n",
    "\n",
    "### END ### "
   ]
  },
  {
   "cell_type": "raw",
   "metadata": {},
   "source": [
    "print(y_train)"
   ]
  },
  {
   "cell_type": "code",
   "execution_count": 15,
   "metadata": {},
   "outputs": [],
   "source": [
    "y_train = tensorflow.keras.utils.to_categorical(y_train_raw,num_classes=10,dtype='float32')\n",
    "y_test = tensorflow.keras.utils.to_categorical(y_test_raw,num_classes=10,dtype='float32')"
   ]
  },
  {
   "cell_type": "markdown",
   "metadata": {},
   "source": [
    "---\n",
    "## Building the neural network"
   ]
  },
  {
   "cell_type": "code",
   "execution_count": 16,
   "metadata": {},
   "outputs": [],
   "source": [
    "\n",
    "### ENTER YOUR CODE HERE ### (1 line)\n",
    "model = Sequential()"
   ]
  },
  {
   "cell_type": "code",
   "execution_count": 17,
   "metadata": {},
   "outputs": [],
   "source": [
    "### ENTER YOUR CODE HERE ### (1 line)\n",
    "# as first layer in a sequential model:\n",
    "model.add(Dense(10,activation='softmax',input_shape=(784, )))\n",
    "# now the model will take as input arrays of shape (784,)and output arrays of shape (10,)\n"
   ]
  },
  {
   "cell_type": "code",
   "execution_count": 18,
   "metadata": {},
   "outputs": [
    {
     "name": "stdout",
     "output_type": "stream",
     "text": [
      "Model: \"sequential\"\n",
      "_________________________________________________________________\n",
      "Layer (type)                 Output Shape              Param #   \n",
      "=================================================================\n",
      "dense (Dense)                (None, 10)                7850      \n",
      "=================================================================\n",
      "Total params: 7,850\n",
      "Trainable params: 7,850\n",
      "Non-trainable params: 0\n",
      "_________________________________________________________________\n"
     ]
    }
   ],
   "source": [
    "model.summary()"
   ]
  },
  {
   "cell_type": "markdown",
   "metadata": {},
   "source": [
    "We will already try to see what our model gives with a single layer and there \"softmax\" activation function !"
   ]
  },
  {
   "cell_type": "markdown",
   "metadata": {},
   "source": [
    "### Compiling the model"
   ]
  },
  {
   "cell_type": "raw",
   "metadata": {},
   "source": [
    "model.compile(loss=keras.losses.categorical_crossentropy,\n",
    "              optimizer=\"adam\",\n",
    "              metrics=['accuracy'])"
   ]
  },
  {
   "cell_type": "code",
   "execution_count": 20,
   "metadata": {},
   "outputs": [],
   "source": [
    "model.compile(loss=tensorflow.keras.losses.categorical_crossentropy,\n",
    "              optimizer=tensorflow.keras.optimizers.Adam(),\n",
    "              metrics=['accuracy'])"
   ]
  },
  {
   "cell_type": "markdown",
   "metadata": {},
   "source": [
    "### Training the model"
   ]
  },
  {
   "cell_type": "code",
   "execution_count": 21,
   "metadata": {},
   "outputs": [
    {
     "name": "stdout",
     "output_type": "stream",
     "text": [
      "Epoch 1/80\n",
      "60000/60000 [==============================] - 4s 66us/sample - loss: 0.4675 - accuracy: 0.8767\n",
      "Epoch 2/80\n",
      "60000/60000 [==============================] - 4s 69us/sample - loss: 0.3035 - accuracy: 0.9155\n",
      "Epoch 3/80\n",
      "60000/60000 [==============================] - 4s 70us/sample - loss: 0.2831 - accuracy: 0.9205\n",
      "Epoch 4/80\n",
      "60000/60000 [==============================] - 4s 68us/sample - loss: 0.2730 - accuracy: 0.9239s - loss: 0.2728 - accuracy: 0.\n",
      "Epoch 5/80\n",
      "60000/60000 [==============================] - 4s 63us/sample - loss: 0.2664 - accuracy: 0.9258\n",
      "Epoch 6/80\n",
      "60000/60000 [==============================] - 4s 59us/sample - loss: 0.2618 - accuracy: 0.9269\n",
      "Epoch 7/80\n",
      "60000/60000 [==============================] - 3s 58us/sample - loss: 0.2579 - accuracy: 0.9286\n",
      "Epoch 8/80\n",
      "60000/60000 [==============================] - 3s 58us/sample - loss: 0.2556 - accuracy: 0.9290\n",
      "Epoch 9/80\n",
      "60000/60000 [==============================] - 3s 57us/sample - loss: 0.2531 - accuracy: 0.9299\n",
      "Epoch 10/80\n",
      "60000/60000 [==============================] - 4s 71us/sample - loss: 0.2509 - accuracy: 0.9301\n",
      "Epoch 11/80\n",
      "60000/60000 [==============================] - 4s 73us/sample - loss: 0.2491 - accuracy: 0.9307\n",
      "Epoch 12/80\n",
      "60000/60000 [==============================] - 4s 59us/sample - loss: 0.2476 - accuracy: 0.9317\n",
      "Epoch 13/80\n",
      "60000/60000 [==============================] - 4s 60us/sample - loss: 0.2463 - accuracy: 0.9319\n",
      "Epoch 14/80\n",
      "60000/60000 [==============================] - 4s 67us/sample - loss: 0.2445 - accuracy: 0.9323\n",
      "Epoch 15/80\n",
      "60000/60000 [==============================] - 3s 56us/sample - loss: 0.2438 - accuracy: 0.9324\n",
      "Epoch 16/80\n",
      "60000/60000 [==============================] - 3s 57us/sample - loss: 0.2429 - accuracy: 0.9330\n",
      "Epoch 17/80\n",
      "60000/60000 [==============================] - 3s 58us/sample - loss: 0.2416 - accuracy: 0.9336\n",
      "Epoch 18/80\n",
      "60000/60000 [==============================] - 4s 68us/sample - loss: 0.2409 - accuracy: 0.9331\n",
      "Epoch 19/80\n",
      "60000/60000 [==============================] - 4s 64us/sample - loss: 0.2403 - accuracy: 0.9336\n",
      "Epoch 20/80\n",
      "60000/60000 [==============================] - 3s 57us/sample - loss: 0.2397 - accuracy: 0.9336\n",
      "Epoch 21/80\n",
      "60000/60000 [==============================] - 4s 58us/sample - loss: 0.2391 - accuracy: 0.9341\n",
      "Epoch 22/80\n",
      "60000/60000 [==============================] - 4s 61us/sample - loss: 0.2384 - accuracy: 0.9345\n",
      "Epoch 23/80\n",
      "60000/60000 [==============================] - 4s 63us/sample - loss: 0.2373 - accuracy: 0.9339\n",
      "Epoch 24/80\n",
      "60000/60000 [==============================] - 3s 56us/sample - loss: 0.2372 - accuracy: 0.9341\n",
      "Epoch 25/80\n",
      "60000/60000 [==============================] - 3s 56us/sample - loss: 0.2368 - accuracy: 0.9351\n",
      "Epoch 26/80\n",
      "60000/60000 [==============================] - 4s 62us/sample - loss: 0.2367 - accuracy: 0.9348\n",
      "Epoch 27/80\n",
      "60000/60000 [==============================] - 4s 72us/sample - loss: 0.2357 - accuracy: 0.9345\n",
      "Epoch 28/80\n",
      "60000/60000 [==============================] - 3s 58us/sample - loss: 0.2351 - accuracy: 0.9352\n",
      "Epoch 29/80\n",
      "60000/60000 [==============================] - 3s 57us/sample - loss: 0.2349 - accuracy: 0.9349\n",
      "Epoch 30/80\n",
      "60000/60000 [==============================] - 3s 55us/sample - loss: 0.2349 - accuracy: 0.9349\n",
      "Epoch 31/80\n",
      "60000/60000 [==============================] - 4s 60us/sample - loss: 0.2339 - accuracy: 0.9354\n",
      "Epoch 32/80\n",
      "60000/60000 [==============================] - 4s 66us/sample - loss: 0.2340 - accuracy: 0.9355\n",
      "Epoch 33/80\n",
      "60000/60000 [==============================] - 3s 56us/sample - loss: 0.2333 - accuracy: 0.9358s - loss: 0.2317 - accu\n",
      "Epoch 34/80\n",
      "60000/60000 [==============================] - 3s 57us/sample - loss: 0.2325 - accuracy: 0.9356\n",
      "Epoch 35/80\n",
      "60000/60000 [==============================] - 4s 68us/sample - loss: 0.2327 - accuracy: 0.9357\n",
      "Epoch 36/80\n",
      "60000/60000 [==============================] - 4s 63us/sample - loss: 0.2319 - accuracy: 0.9356\n",
      "Epoch 37/80\n",
      "60000/60000 [==============================] - 3s 57us/sample - loss: 0.2320 - accuracy: 0.9358\n",
      "Epoch 38/80\n",
      "60000/60000 [==============================] - 3s 56us/sample - loss: 0.2319 - accuracy: 0.9362\n",
      "Epoch 39/80\n",
      "60000/60000 [==============================] - 3s 56us/sample - loss: 0.2315 - accuracy: 0.9358\n",
      "Epoch 40/80\n",
      "60000/60000 [==============================] - 3s 58us/sample - loss: 0.2308 - accuracy: 0.9355\n",
      "Epoch 41/80\n",
      "60000/60000 [==============================] - 4s 59us/sample - loss: 0.2307 - accuracy: 0.9361\n",
      "Epoch 42/80\n",
      "60000/60000 [==============================] - 3s 55us/sample - loss: 0.2302 - accuracy: 0.9354\n",
      "Epoch 43/80\n",
      "60000/60000 [==============================] - 4s 62us/sample - loss: 0.2302 - accuracy: 0.9361\n",
      "Epoch 44/80\n",
      "60000/60000 [==============================] - 4s 60us/sample - loss: 0.2299 - accuracy: 0.9359\n",
      "Epoch 45/80\n",
      "60000/60000 [==============================] - 4s 63us/sample - loss: 0.2293 - accuracy: 0.9365\n",
      "Epoch 46/80\n",
      "60000/60000 [==============================] - 3s 54us/sample - loss: 0.2295 - accuracy: 0.9366\n",
      "Epoch 47/80\n",
      "60000/60000 [==============================] - 3s 54us/sample - loss: 0.2290 - accuracy: 0.9363\n",
      "Epoch 48/80\n",
      "60000/60000 [==============================] - 3s 55us/sample - loss: 0.2287 - accuracy: 0.9367\n",
      "Epoch 49/80\n",
      "60000/60000 [==============================] - 3s 55us/sample - loss: 0.2284 - accuracy: 0.9369\n",
      "Epoch 50/80\n",
      "60000/60000 [==============================] - 4s 63us/sample - loss: 0.2285 - accuracy: 0.9367\n",
      "Epoch 51/80\n",
      "60000/60000 [==============================] - 3s 56us/sample - loss: 0.2281 - accuracy: 0.9372\n",
      "Epoch 52/80\n",
      "60000/60000 [==============================] - 4s 67us/sample - loss: 0.2278 - accuracy: 0.9367\n",
      "Epoch 53/80\n",
      "60000/60000 [==============================] - 3s 56us/sample - loss: 0.2280 - accuracy: 0.9361\n",
      "Epoch 54/80\n",
      "60000/60000 [==============================] - 4s 59us/sample - loss: 0.2275 - accuracy: 0.9368\n",
      "Epoch 55/80\n",
      "60000/60000 [==============================] - 3s 53us/sample - loss: 0.2276 - accuracy: 0.9368\n",
      "Epoch 56/80\n",
      "60000/60000 [==============================] - 3s 51us/sample - loss: 0.2271 - accuracy: 0.9369\n",
      "Epoch 57/80\n",
      "60000/60000 [==============================] - 3s 54us/sample - loss: 0.2272 - accuracy: 0.9369\n",
      "Epoch 58/80\n",
      "60000/60000 [==============================] - 3s 52us/sample - loss: 0.2269 - accuracy: 0.9371\n",
      "Epoch 59/80\n",
      "60000/60000 [==============================] - 4s 59us/sample - loss: 0.2267 - accuracy: 0.9372\n",
      "Epoch 60/80\n",
      "60000/60000 [==============================] - 4s 59us/sample - loss: 0.2264 - accuracy: 0.9366\n",
      "Epoch 61/80\n",
      "60000/60000 [==============================] - 4s 67us/sample - loss: 0.2261 - accuracy: 0.9379\n",
      "Epoch 62/80\n",
      "60000/60000 [==============================] - 3s 52us/sample - loss: 0.2259 - accuracy: 0.9369\n",
      "Epoch 63/80\n",
      "60000/60000 [==============================] - 3s 54us/sample - loss: 0.2259 - accuracy: 0.9377\n",
      "Epoch 64/80\n",
      "60000/60000 [==============================] - 4s 62us/sample - loss: 0.2259 - accuracy: 0.9367\n",
      "Epoch 65/80\n",
      "60000/60000 [==============================] - 3s 51us/sample - loss: 0.2256 - accuracy: 0.9374\n",
      "Epoch 66/80\n",
      "60000/60000 [==============================] - 3s 53us/sample - loss: 0.2259 - accuracy: 0.9372\n",
      "Epoch 67/80\n",
      "60000/60000 [==============================] - 3s 52us/sample - loss: 0.2252 - accuracy: 0.9376\n",
      "Epoch 68/80\n",
      "60000/60000 [==============================] - 3s 53us/sample - loss: 0.2247 - accuracy: 0.9372\n",
      "Epoch 69/80\n",
      "60000/60000 [==============================] - 4s 63us/sample - loss: 0.2250 - accuracy: 0.9380\n",
      "Epoch 70/80\n",
      "60000/60000 [==============================] - 4s 67us/sample - loss: 0.2251 - accuracy: 0.9377\n",
      "Epoch 71/80\n",
      "60000/60000 [==============================] - 3s 57us/sample - loss: 0.2251 - accuracy: 0.9377\n",
      "Epoch 72/80\n",
      "60000/60000 [==============================] - 3s 55us/sample - loss: 0.2243 - accuracy: 0.9384\n",
      "Epoch 73/80\n",
      "60000/60000 [==============================] - 4s 61us/sample - loss: 0.2245 - accuracy: 0.9376\n",
      "Epoch 74/80\n",
      "60000/60000 [==============================] - 3s 52us/sample - loss: 0.2243 - accuracy: 0.9376\n",
      "Epoch 75/80\n",
      "60000/60000 [==============================] - 3s 52us/sample - loss: 0.2250 - accuracy: 0.9377\n",
      "Epoch 76/80\n",
      "60000/60000 [==============================] - 3s 57us/sample - loss: 0.2243 - accuracy: 0.9377\n",
      "Epoch 77/80\n",
      "60000/60000 [==============================] - 3s 55us/sample - loss: 0.2243 - accuracy: 0.9372\n",
      "Epoch 78/80\n",
      "60000/60000 [==============================] - 4s 72us/sample - loss: 0.2241 - accuracy: 0.9374s - loss: 0.2238 - accuracy\n",
      "Epoch 79/80\n",
      "60000/60000 [==============================] - 4s 65us/sample - loss: 0.2243 - accuracy: 0.9380\n",
      "Epoch 80/80\n",
      "60000/60000 [==============================] - 4s 60us/sample - loss: 0.2237 - accuracy: 0.9375\n"
     ]
    },
    {
     "data": {
      "text/plain": [
       "<tensorflow.python.keras.callbacks.History at 0x2764a19c630>"
      ]
     },
     "execution_count": 21,
     "metadata": {},
     "output_type": "execute_result"
    }
   ],
   "source": [
    "\n",
    "model.fit(x_train, y_train,epochs = 80)"
   ]
  },
  {
   "cell_type": "markdown",
   "metadata": {},
   "source": [
    "### Evaluating the model"
   ]
  },
  {
   "cell_type": "code",
   "execution_count": 22,
   "metadata": {},
   "outputs": [
    {
     "name": "stdout",
     "output_type": "stream",
     "text": [
      "x_test <class 'numpy.ndarray'>\n",
      "x_test (10000, 784)\n",
      "<class 'numpy.ndarray'>\n",
      "(10000, 10)\n",
      "Accuracy: % 92.65\n",
      "That means that out of 10000 test samples, this model got 9265 correct and 735 incorrect\n"
     ]
    }
   ],
   "source": [
    "from sklearn.metrics import accuracy_score, confusion_matrix\n",
    "predictions = model.predict(x_test)\n",
    "print(\"x_test\",type(x_test))\n",
    "print(\"x_test\",x_test.shape)\n",
    "print(type(predictions))\n",
    "print(predictions.shape)\n",
    "print(\"Accuracy: %\", accuracy_score(y_test.argmax(axis=1), predictions.argmax(axis=1)) * 100)\n",
    "\n",
    "correct_preds = (y_test.argmax(axis=1) == predictions.argmax(axis=1))\n",
    "print(\"That means that out of\", y_test.shape[0] ,\"test samples, this model got\", \n",
    "      np.where(correct_preds)[0].size, \"correct and\",\n",
    "      np.where(~correct_preds)[0].size, \"incorrect\")\n"
   ]
  },
  {
   "cell_type": "code",
   "execution_count": 23,
   "metadata": {},
   "outputs": [
    {
     "name": "stdout",
     "output_type": "stream",
     "text": [
      "<class 'numpy.ndarray'>\n",
      "(10000,)\n"
     ]
    }
   ],
   "source": [
    "print(type(correct_preds))\n",
    "print(correct_preds.shape)"
   ]
  },
  {
   "cell_type": "code",
   "execution_count": 35,
   "metadata": {},
   "outputs": [],
   "source": [
    "model2 = Sequential()\n",
    "\n",
    "\n",
    "model2.add(Dense(10,activation='softmax',input_shape=(784, )))\n",
    "model2.add(Dense(50,activation='sigmoid')) # 50 is number of the hidden neurons\n",
    "model2.add(Dense(10,activation='softmax'))\n",
    "\n",
    "\n"
   ]
  },
  {
   "cell_type": "markdown",
   "metadata": {},
   "source": [
    "### Compiling the model (again)"
   ]
  },
  {
   "cell_type": "code",
   "execution_count": 36,
   "metadata": {},
   "outputs": [],
   "source": [
    "\n",
    "model2.compile(optimizer='adam', loss='categorical_crossentropy')"
   ]
  },
  {
   "cell_type": "markdown",
   "metadata": {},
   "source": [
    "### Training the model (again)"
   ]
  },
  {
   "cell_type": "code",
   "execution_count": 37,
   "metadata": {},
   "outputs": [
    {
     "name": "stdout",
     "output_type": "stream",
     "text": [
      "Epoch 1/40\n",
      "60000/60000 [==============================] - 4s 65us/sample - loss: 1.2903\n",
      "Epoch 2/40\n",
      "60000/60000 [==============================] - 4s 66us/sample - loss: 0.8014\n",
      "Epoch 3/40\n",
      "60000/60000 [==============================] - 4s 70us/sample - loss: 0.7021\n",
      "Epoch 4/40\n",
      "60000/60000 [==============================] - 6s 108us/sample - loss: 0.6306\n",
      "Epoch 5/40\n",
      "60000/60000 [==============================] - 6s 97us/sample - loss: 0.4994\n",
      "Epoch 6/40\n",
      "60000/60000 [==============================] - 6s 95us/sample - loss: 0.3939\n",
      "Epoch 7/40\n",
      "60000/60000 [==============================] - 5s 84us/sample - loss: 0.3532\n",
      "Epoch 8/40\n",
      "60000/60000 [==============================] - 5s 82us/sample - loss: 0.3300\n",
      "Epoch 9/40\n",
      "60000/60000 [==============================] - 5s 82us/sample - loss: 0.3148\n",
      "Epoch 10/40\n",
      "60000/60000 [==============================] - 5s 79us/sample - loss: 0.3032\n",
      "Epoch 11/40\n",
      "60000/60000 [==============================] - 5s 87us/sample - loss: 0.2954\n",
      "Epoch 12/40\n",
      "60000/60000 [==============================] - 6s 103us/sample - loss: 0.2881\n",
      "Epoch 13/40\n",
      "60000/60000 [==============================] - 5s 82us/sample - loss: 0.2824\n",
      "Epoch 14/40\n",
      "60000/60000 [==============================] - 5s 76us/sample - loss: 0.2777\n",
      "Epoch 15/40\n",
      "60000/60000 [==============================] - 4s 69us/sample - loss: 0.2719\n",
      "Epoch 16/40\n",
      "60000/60000 [==============================] - 4s 66us/sample - loss: 0.2680\n",
      "Epoch 17/40\n",
      "60000/60000 [==============================] - 4s 62us/sample - loss: 0.2644\n",
      "Epoch 18/40\n",
      "60000/60000 [==============================] - 4s 73us/sample - loss: 0.2598\n",
      "Epoch 19/40\n",
      "60000/60000 [==============================] - 4s 66us/sample - loss: 0.2568\n",
      "Epoch 20/40\n",
      "60000/60000 [==============================] - 4s 62us/sample - loss: 0.2539\n",
      "Epoch 21/40\n",
      "60000/60000 [==============================] - 4s 64us/sample - loss: 0.2512\n",
      "Epoch 22/40\n",
      "60000/60000 [==============================] - 4s 63us/sample - loss: 0.2500\n",
      "Epoch 23/40\n",
      "60000/60000 [==============================] - 4s 69us/sample - loss: 0.2463\n",
      "Epoch 24/40\n",
      "60000/60000 [==============================] - 4s 61us/sample - loss: 0.2445\n",
      "Epoch 25/40\n",
      "60000/60000 [==============================] - 4s 72us/sample - loss: 0.2435\n",
      "Epoch 26/40\n",
      "60000/60000 [==============================] - 4s 69us/sample - loss: 0.2404\n",
      "Epoch 27/40\n",
      "60000/60000 [==============================] - 4s 67us/sample - loss: 0.2386\n",
      "Epoch 28/40\n",
      "60000/60000 [==============================] - 4s 74us/sample - loss: 0.23770s - loss: 0.\n",
      "Epoch 29/40\n",
      "60000/60000 [==============================] - 4s 64us/sample - loss: 0.2334\n",
      "Epoch 30/40\n",
      "60000/60000 [==============================] - 4s 71us/sample - loss: 0.2333\n",
      "Epoch 31/40\n",
      "60000/60000 [==============================] - 5s 78us/sample - loss: 0.2328\n",
      "Epoch 32/40\n",
      "60000/60000 [==============================] - 5s 76us/sample - loss: 0.2315\n",
      "Epoch 33/40\n",
      "60000/60000 [==============================] - 5s 88us/sample - loss: 0.2295\n",
      "Epoch 34/40\n",
      "60000/60000 [==============================] - 4s 70us/sample - loss: 0.2274\n",
      "Epoch 35/40\n",
      "60000/60000 [==============================] - 4s 63us/sample - loss: 0.22630s\n",
      "Epoch 36/40\n",
      "60000/60000 [==============================] - 4s 62us/sample - loss: 0.2249\n",
      "Epoch 37/40\n",
      "60000/60000 [==============================] - 4s 65us/sample - loss: 0.22370s - loss: 0.\n",
      "Epoch 38/40\n",
      "60000/60000 [==============================] - 4s 72us/sample - loss: 0.2216\n",
      "Epoch 39/40\n",
      "60000/60000 [==============================] - 5s 85us/sample - loss: 0.2203\n",
      "Epoch 40/40\n",
      "60000/60000 [==============================] - 5s 91us/sample - loss: 0.2203\n"
     ]
    },
    {
     "data": {
      "text/plain": [
       "<tensorflow.python.keras.callbacks.History at 0x2765acbbc18>"
      ]
     },
     "execution_count": 37,
     "metadata": {},
     "output_type": "execute_result"
    }
   ],
   "source": [
    "model2.fit(x_train,y_train, epochs=40)"
   ]
  },
  {
   "cell_type": "markdown",
   "metadata": {},
   "source": [
    "### Evaluating the model (again)"
   ]
  },
  {
   "cell_type": "code",
   "execution_count": 27,
   "metadata": {},
   "outputs": [
    {
     "name": "stdout",
     "output_type": "stream",
     "text": [
      "Accuracy: % 92.65\n",
      "That means that out of 10000 test samples, this model got 9265 correct and 735 incorrect\n"
     ]
    }
   ],
   "source": [
    "predictions2 = model2.predict(x_test)\n",
    "print(\"Accuracy: %\", accuracy_score(y_test.argmax(axis=1), predictions.argmax(axis=1)) * 100)\n",
    "\n",
    "correct_preds2 = (y_test.argmax(axis=1) == predictions2.argmax(axis=1))\n",
    "print(\"That means that out of\", y_test.shape[0] ,\"test samples, this model got\", \n",
    "      np.where(correct_preds)[0].size, \"correct and\",\n",
    "      np.where(~correct_preds)[0].size, \"incorrect\")"
   ]
  },
  {
   "cell_type": "markdown",
   "metadata": {},
   "source": [
    "### Analyze the errors "
   ]
  },
  {
   "cell_type": "code",
   "execution_count": 28,
   "metadata": {},
   "outputs": [
    {
     "data": {
      "image/png": "[encoded data removed]",
      "text/plain": [
       "<Figure size 720x576 with 2 Axes>"
      ]
     },
     "metadata": {},
     "output_type": "display_data"
    }
   ],
   "source": [
    "import seaborn as sns\n",
    "cm = confusion_matrix(y_test.argmax(axis=1), predictions2.argmax(axis=1))\n",
    "\n",
    "plt.figure(figsize=(10, 8))\n",
    "sns.heatmap(cm, cmap=\"viridis\", vmax=100, annot=True, fmt='g')\n",
    "plt.gca().set_xlabel(\"Predicted number\", fontsize=16)\n",
    "plt.gca().set_ylabel(\"Actual number\", fontsize = 16)\n",
    "plt.show()"
   ]
  },
  {
   "cell_type": "code",
   "execution_count": 29,
   "metadata": {},
   "outputs": [
    {
     "data": {
      "image/png": "[encoded data removed]",
      "text/plain": [
       "<Figure size 432x288 with 1 Axes>"
      ]
     },
     "metadata": {},
     "output_type": "display_data"
    },
    {
     "name": "stdout",
     "output_type": "stream",
     "text": [
      "This image represents the number 4\n",
      "\n",
      "Your model ranked its predictions this way: \n",
      "\n",
      "9 \tScore: 93.36271\n",
      "8 \tScore: 4.08163\n",
      "4 \tScore: 2.06536\n",
      "5 \tScore: 0.28037\n",
      "3 \tScore: 0.13347\n",
      "7 \tScore: 0.07625\n",
      "1 \tScore: 0.00019\n",
      "2 \tScore: 0.00002\n",
      "0 \tScore: 0.00000\n",
      "6 \tScore: 0.00000\n"
     ]
    }
   ],
   "source": [
    "# Every time you run this cell, a random sample will be chosen from the ones that your model made the wrong prediction on\n",
    "\n",
    "i = np.random.choice(np.where(~correct_preds)[0])\n",
    "\n",
    "plt.imshow(x_test_raw[i], cmap='Greys', interpolation='nearest')\n",
    "plt.show()\n",
    "\n",
    "print(\"This image represents the number\", y_test_raw[i])\n",
    "print()\n",
    "print(\"Your model ranked its predictions this way: \\n\")\n",
    "for num, score in sorted(list(enumerate(predictions[i])), key=lambda pair: pair[1], reverse=True):\n",
    "    print(num, \"\\tScore: {0:.5f}\".format((score) * 100))"
   ]
  },
  {
   "cell_type": "markdown",
   "metadata": {},
   "source": [
    "### Save your model"
   ]
  },
  {
   "cell_type": "code",
   "execution_count": 30,
   "metadata": {},
   "outputs": [],
   "source": [
    "model2.save(\"model.h5\")"
   ]
  }
 ],
 "metadata": {
  "kernelspec": {
   "display_name": "Python [conda env:py3-TF2] *",
   "language": "python",
   "name": "conda-env-py3-TF2-py"
  },
  "language_info": {
   "codemirror_mode": {
    "name": "ipython",
    "version": 3
   },
   "file_extension": ".py",
   "mimetype": "text/x-python",
   "name": "python",
   "nbconvert_exporter": "python",
   "pygments_lexer": "ipython3",
   "version": "3.6.4"
  }
 },
 "nbformat": 4,
 "nbformat_minor": 2
}

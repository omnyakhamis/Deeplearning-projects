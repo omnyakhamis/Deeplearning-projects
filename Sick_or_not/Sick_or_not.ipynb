{
 "cells": [
  {
   "cell_type": "markdown",
   "metadata": {},
   "source": [
    "# Sick or not ?\n",
    "\n",
    "Neural networks are also used and work very well on more traditional data sets than images. Here is a set of data that contains a column with the white blood cell rate, another with the red blood cell rate and a last one with an indication of who is sick or not. (Not sick = 0, sick = 1)\n",
    "\n",
    "The (fictionals) dataset is located in the dataset folder, here is the path :  \n",
    "\n",
    "``\"./dataset/sick_or_not.csv\"`` \n",
    "\n",
    "Rows : 40000\n",
    "\n",
    "## Your task:\n",
    "\n",
    "Design a model that recognizes if the person is sick based on white and red blood cells.  \n",
    "Use neural networks to perform this task. \n",
    "\n",
    "![](https://d418bv7mr3wfv.cloudfront.net/s3/W1siZiIsIjIwMTcvMDUvMzAvMDYvNTMvNTcvODk3L2dpcmwtMjE3MTA1Ml85NjBfNzIwLmpwZyJdLFsicCIsInRodW1iIiwiOTgweDU4MCMiXV0)"
   ]
  },
  {
   "cell_type": "markdown",
   "metadata": {},
   "source": [
    "### Score to beat :\n",
    "Accuracy: **% 96.025**  \n",
    "Loss : **0.1151**  \n",
    "Epochs : **40**  \n",
    "That means that out of **8000** test samples, this model got **7682** correct and **318** incorrect."
   ]
  },
  {
   "cell_type": "code",
   "execution_count": 1,
   "metadata": {},
   "outputs": [
    {
     "name": "stderr",
     "output_type": "stream",
     "text": [
      "C:\\Anaconda3\\envs\\py3-TF2\\lib\\site-packages\\h5py\\__init__.py:36: FutureWarning: Conversion of the second argument of issubdtype from `float` to `np.floating` is deprecated. In future, it will be treated as `np.float64 == np.dtype(float).type`.\n",
      "  from ._conv import register_converters as _register_converters\n"
     ]
    }
   ],
   "source": [
    "###Enter your code here !\n",
    "import numpy as np\n",
    "import tensorflow as tf\n",
    "import pandas as pd\n",
    "from sklearn import preprocessing\n",
    "from sklearn.model_selection import train_test_split\n",
    "\n",
    "import tensorflow.keras\n",
    "from tensorflow.keras.models import Sequential\n",
    "from tensorflow.keras.layers import Dense, Dropout, Flatten, Activation\n",
    "from tensorflow.keras.layers import Conv2D, MaxPooling2D\n",
    "from tensorflow.keras import backend as K"
   ]
  },
  {
   "cell_type": "code",
   "execution_count": 2,
   "metadata": {},
   "outputs": [
    {
     "data": {
      "text/plain": [
       "'2.0.0-alpha0'"
      ]
     },
     "execution_count": 2,
     "metadata": {},
     "output_type": "execute_result"
    }
   ],
   "source": [
    "tf.__version__"
   ]
  },
  {
   "cell_type": "markdown",
   "metadata": {},
   "source": [
    "## Exploring and Processing the Data"
   ]
  },
  {
   "cell_type": "markdown",
   "metadata": {},
   "source": [
    "#### Read in the CSV (comma separated values) file and convert them to arrays."
   ]
  },
  {
   "cell_type": "code",
   "execution_count": 3,
   "metadata": {},
   "outputs": [],
   "source": [
    "df = pd.read_csv('./dataset/sick_or_not.csv')"
   ]
  },
  {
   "cell_type": "code",
   "execution_count": 4,
   "metadata": {},
   "outputs": [
    {
     "data": {
      "text/html": [
       "<div>\n",
       "<style scoped>\n",
       "    .dataframe tbody tr th:only-of-type {\n",
       "        vertical-align: middle;\n",
       "    }\n",
       "\n",
       "    .dataframe tbody tr th {\n",
       "        vertical-align: top;\n",
       "    }\n",
       "\n",
       "    .dataframe thead th {\n",
       "        text-align: right;\n",
       "    }\n",
       "</style>\n",
       "<table border=\"1\" class=\"dataframe\">\n",
       "  <thead>\n",
       "    <tr style=\"text-align: right;\">\n",
       "      <th></th>\n",
       "      <th>white_blood_cell</th>\n",
       "      <th>red_blood_cell</th>\n",
       "      <th>sick</th>\n",
       "    </tr>\n",
       "  </thead>\n",
       "  <tbody>\n",
       "    <tr>\n",
       "      <th>0</th>\n",
       "      <td>1.178028</td>\n",
       "      <td>0.464315</td>\n",
       "      <td>0.0</td>\n",
       "    </tr>\n",
       "    <tr>\n",
       "      <th>1</th>\n",
       "      <td>0.844175</td>\n",
       "      <td>2.440351</td>\n",
       "      <td>0.0</td>\n",
       "    </tr>\n",
       "    <tr>\n",
       "      <th>2</th>\n",
       "      <td>2.878409</td>\n",
       "      <td>-1.438124</td>\n",
       "      <td>1.0</td>\n",
       "    </tr>\n",
       "    <tr>\n",
       "      <th>3</th>\n",
       "      <td>-0.057521</td>\n",
       "      <td>2.054928</td>\n",
       "      <td>1.0</td>\n",
       "    </tr>\n",
       "    <tr>\n",
       "      <th>4</th>\n",
       "      <td>-1.232600</td>\n",
       "      <td>-2.722805</td>\n",
       "      <td>0.0</td>\n",
       "    </tr>\n",
       "  </tbody>\n",
       "</table>\n",
       "</div>"
      ],
      "text/plain": [
       "   white_blood_cell  red_blood_cell  sick\n",
       "0          1.178028        0.464315   0.0\n",
       "1          0.844175        2.440351   0.0\n",
       "2          2.878409       -1.438124   1.0\n",
       "3         -0.057521        2.054928   1.0\n",
       "4         -1.232600       -2.722805   0.0"
      ]
     },
     "execution_count": 4,
     "metadata": {},
     "output_type": "execute_result"
    }
   ],
   "source": [
    "df.head()"
   ]
  },
  {
   "cell_type": "markdown",
   "metadata": {},
   "source": [
    "#### The dataset that we have now is in what we call a pandas dataframe. To convert it to an array, simply access its values:"
   ]
  },
  {
   "cell_type": "code",
   "execution_count": 5,
   "metadata": {},
   "outputs": [],
   "source": [
    "dataset = df.values"
   ]
  },
  {
   "cell_type": "code",
   "execution_count": 6,
   "metadata": {},
   "outputs": [
    {
     "data": {
      "text/plain": [
       "numpy.ndarray"
      ]
     },
     "execution_count": 6,
     "metadata": {},
     "output_type": "execute_result"
    }
   ],
   "source": [
    "type(dataset)"
   ]
  },
  {
   "cell_type": "code",
   "execution_count": 7,
   "metadata": {},
   "outputs": [
    {
     "data": {
      "text/plain": [
       "(40000, 3)"
      ]
     },
     "execution_count": 7,
     "metadata": {},
     "output_type": "execute_result"
    }
   ],
   "source": [
    "dataset.shape"
   ]
  },
  {
   "cell_type": "markdown",
   "metadata": {},
   "source": [
    "#### Now, we split the dataset into our input features and the label we wish to predict."
   ]
  },
  {
   "cell_type": "code",
   "execution_count": 8,
   "metadata": {},
   "outputs": [],
   "source": [
    "X=dataset[:,0:2]\n",
    "Y=dataset[:,2]"
   ]
  },
  {
   "cell_type": "code",
   "execution_count": 9,
   "metadata": {},
   "outputs": [
    {
     "data": {
      "text/plain": [
       "(40000, 2)"
      ]
     },
     "execution_count": 9,
     "metadata": {},
     "output_type": "execute_result"
    }
   ],
   "source": [
    "X.shape"
   ]
  },
  {
   "cell_type": "code",
   "execution_count": 10,
   "metadata": {},
   "outputs": [
    {
     "data": {
      "text/plain": [
       "array([[ 1.17802829,  0.46431541],\n",
       "       [ 0.84417477,  2.44035071],\n",
       "       [ 2.87840931, -1.43812353],\n",
       "       ...,\n",
       "       [-2.19231952, -3.35627247],\n",
       "       [ 3.10098002, -2.56139684],\n",
       "       [-1.60539689,  2.68097145]])"
      ]
     },
     "execution_count": 10,
     "metadata": {},
     "output_type": "execute_result"
    }
   ],
   "source": [
    "X"
   ]
  },
  {
   "cell_type": "code",
   "execution_count": 11,
   "metadata": {},
   "outputs": [
    {
     "data": {
      "text/plain": [
       "array([0., 0., 1., ..., 0., 1., 1.])"
      ]
     },
     "execution_count": 11,
     "metadata": {},
     "output_type": "execute_result"
    }
   ],
   "source": [
    "Y"
   ]
  },
  {
   "cell_type": "code",
   "execution_count": 12,
   "metadata": {},
   "outputs": [
    {
     "data": {
      "text/plain": [
       "(40000,)"
      ]
     },
     "execution_count": 12,
     "metadata": {},
     "output_type": "execute_result"
    }
   ],
   "source": [
    "Y.shape"
   ]
  },
  {
   "cell_type": "markdown",
   "metadata": {},
   "source": [
    "### Rescaling x"
   ]
  },
  {
   "cell_type": "markdown",
   "metadata": {},
   "source": [
    "#### We'll use a min-max scaler from scikit-learn which scales our data to be between 0 and 1."
   ]
  },
  {
   "cell_type": "code",
   "execution_count": 13,
   "metadata": {},
   "outputs": [],
   "source": [
    "X_scale = X.astype('float32')"
   ]
  },
  {
   "cell_type": "code",
   "execution_count": 14,
   "metadata": {},
   "outputs": [],
   "source": [
    "min_max_scaler = preprocessing.MinMaxScaler()\n",
    "X_scale = min_max_scaler.fit_transform(X)"
   ]
  },
  {
   "cell_type": "code",
   "execution_count": 15,
   "metadata": {},
   "outputs": [
    {
     "data": {
      "text/plain": [
       "array([[0.61645665, 0.53248062],\n",
       "       [0.58710922, 0.70095273],\n",
       "       [0.76592881, 0.37028316],\n",
       "       ...,\n",
       "       [0.32018589, 0.2067463 ],\n",
       "       [0.78549391, 0.27451552],\n",
       "       [0.37177938, 0.72146749]])"
      ]
     },
     "execution_count": 15,
     "metadata": {},
     "output_type": "execute_result"
    }
   ],
   "source": [
    "X_scale"
   ]
  },
  {
   "cell_type": "code",
   "execution_count": 16,
   "metadata": {},
   "outputs": [
    {
     "data": {
      "text/plain": [
       "<seaborn.axisgrid.PairGrid at 0x1d9d2405240>"
      ]
     },
     "execution_count": 16,
     "metadata": {},
     "output_type": "execute_result"
    }
   ],
   "source": [
    "import seaborn as sns\n",
    "sns.pairplot(x_vars=[\"white_blood_cell\"],  y_vars=[\"red_blood_cell\"], hue=\"sick\",data=df, size=15)"
   ]
  },
  {
   "cell_type": "raw",
   "metadata": {},
   "source": [
    "Based on the fig above. we can see that our data is non-linear so we wil need a one hidden layer with four neurons"
   ]
  },
  {
   "cell_type": "markdown",
   "metadata": {},
   "source": [
    "#### Categorical encoding y"
   ]
  },
  {
   "cell_type": "code",
   "execution_count": 17,
   "metadata": {},
   "outputs": [],
   "source": [
    "Y_encoding= tensorflow.keras.utils.to_categorical(Y,num_classes=2,dtype='float32')"
   ]
  },
  {
   "cell_type": "markdown",
   "metadata": {},
   "source": [
    "##  train_test_split"
   ]
  },
  {
   "cell_type": "markdown",
   "metadata": {},
   "source": [
    "#### Lastly, we wish to set aside some parts of our dataset for a validation set and a test set. We use the function train_test_split from scikit-learn to do that"
   ]
  },
  {
   "cell_type": "code",
   "execution_count": 18,
   "metadata": {},
   "outputs": [],
   "source": [
    "X_train, X_test, Y_train, Y_test = train_test_split(X_scale, Y_encoding, test_size=0.25,random_state =1 )"
   ]
  },
  {
   "cell_type": "code",
   "execution_count": 19,
   "metadata": {},
   "outputs": [
    {
     "name": "stdout",
     "output_type": "stream",
     "text": [
      "(30000, 2) (30000, 2)\n"
     ]
    }
   ],
   "source": [
    "print(X_train.shape, Y_train.shape)"
   ]
  },
  {
   "cell_type": "markdown",
   "metadata": {},
   "source": [
    "## Building and Training Our First Neural Network"
   ]
  },
  {
   "cell_type": "raw",
   "metadata": {},
   "source": [
    "- We will be using the Sequential model, which means that we merely need to describe the layers above in sequence. Our neural - - network has three layers:\n",
    "\n",
    "* input layer :  input_shape = 2 , relu activation, because number of columns in training data = 2\n",
    "* Hidden layer 1: 4 neurons, Sigmoid activation ==> because we have four linear models\n",
    "* Output Layer: 2 neuron, Sigmoid activation ==> because we have binary classification 0 or 1"
   ]
  },
  {
   "cell_type": "code",
   "execution_count": 20,
   "metadata": {},
   "outputs": [],
   "source": [
    "model = Sequential()"
   ]
  },
  {
   "cell_type": "code",
   "execution_count": 21,
   "metadata": {},
   "outputs": [],
   "source": [
    "model.add(Dense(4, input_shape=(2,)))\n",
    "model.add(Activation('sigmoid'))"
   ]
  },
  {
   "cell_type": "code",
   "execution_count": 22,
   "metadata": {},
   "outputs": [],
   "source": [
    "model.add(Dense(2))\n",
    "model.add(Activation('sigmoid'))"
   ]
  },
  {
   "cell_type": "code",
   "execution_count": 23,
   "metadata": {},
   "outputs": [
    {
     "name": "stdout",
     "output_type": "stream",
     "text": [
      "Model: \"sequential\"\n",
      "_________________________________________________________________\n",
      "Layer (type)                 Output Shape              Param #   \n",
      "=================================================================\n",
      "dense (Dense)                (None, 4)                 12        \n",
      "_________________________________________________________________\n",
      "activation (Activation)      (None, 4)                 0         \n",
      "_________________________________________________________________\n",
      "dense_1 (Dense)              (None, 2)                 10        \n",
      "_________________________________________________________________\n",
      "activation_1 (Activation)    (None, 2)                 0         \n",
      "=================================================================\n",
      "Total params: 22\n",
      "Trainable params: 22\n",
      "Non-trainable params: 0\n",
      "_________________________________________________________________\n"
     ]
    }
   ],
   "source": [
    "model.summary()"
   ]
  },
  {
   "cell_type": "raw",
   "metadata": {},
   "source": [
    "#Other way\n",
    "model = Sequential([\n",
    "    Dense(4, activation='sigmoid', input_shape=(2,)), #input shape +first hiddden layer\n",
    "    Dense(2, activation='sigmoid'), ##output layer     \n",
    "])"
   ]
  },
  {
   "cell_type": "raw",
   "metadata": {},
   "source": [
    "Now that we've got our architecture specified, we need to find the best numbers for it. Before we start our training, we have to configure the model by\n",
    "\n",
    "Telling it what algorithm you want to use to do the optimization (we'll use stochastic gradient descent)\n",
    "Telling it what loss function to use (for binary classification, we will use binary cross entropy)\n",
    "Telling it what other metrics you want to track apart from the loss function (we want to track accuracy as well)\n",
    "We do so below:"
   ]
  },
  {
   "cell_type": "code",
   "execution_count": 24,
   "metadata": {},
   "outputs": [],
   "source": [
    "model.compile(loss=tensorflow.keras.losses.categorical_crossentropy,\n",
    "              optimizer=tensorflow.keras.optimizers.Adam(),\n",
    "              metrics=['accuracy'])"
   ]
  },
  {
   "cell_type": "code",
   "execution_count": 25,
   "metadata": {},
   "outputs": [
    {
     "name": "stdout",
     "output_type": "stream",
     "text": [
      "Epoch 1/40\n",
      "30000/30000 [==============================] - 2s 68us/sample - loss: 0.6952 - accuracy: 0.4914\n",
      "Epoch 2/40\n",
      "30000/30000 [==============================] - 2s 56us/sample - loss: 0.6932 - accuracy: 0.4922\n",
      "Epoch 3/40\n",
      "30000/30000 [==============================] - 2s 55us/sample - loss: 0.6933 - accuracy: 0.4964\n",
      "Epoch 4/40\n",
      "30000/30000 [==============================] - 2s 55us/sample - loss: 0.6932 - accuracy: 0.5048\n",
      "Epoch 5/40\n",
      "30000/30000 [==============================] - 2s 57us/sample - loss: 0.6933 - accuracy: 0.5040\n",
      "Epoch 6/40\n",
      "30000/30000 [==============================] - 2s 63us/sample - loss: 0.6932 - accuracy: 0.5009\n",
      "Epoch 7/40\n",
      "30000/30000 [==============================] - 2s 63us/sample - loss: 0.6932 - accuracy: 0.4976\n",
      "Epoch 8/40\n",
      "30000/30000 [==============================] - 2s 68us/sample - loss: 0.6932 - accuracy: 0.5004\n",
      "Epoch 9/40\n",
      "30000/30000 [==============================] - 2s 61us/sample - loss: 0.6932 - accuracy: 0.5024\n",
      "Epoch 10/40\n",
      "30000/30000 [==============================] - 2s 55us/sample - loss: 0.6932 - accuracy: 0.5004\n",
      "Epoch 11/40\n",
      "30000/30000 [==============================] - 2s 55us/sample - loss: 0.6932 - accuracy: 0.4970\n",
      "Epoch 12/40\n",
      "30000/30000 [==============================] - 2s 54us/sample - loss: 0.6932 - accuracy: 0.4969\n",
      "Epoch 13/40\n",
      "30000/30000 [==============================] - 2s 56us/sample - loss: 0.6932 - accuracy: 0.5032\n",
      "Epoch 14/40\n",
      "30000/30000 [==============================] - 2s 53us/sample - loss: 0.6932 - accuracy: 0.5032\n",
      "Epoch 15/40\n",
      "30000/30000 [==============================] - 2s 53us/sample - loss: 0.6932 - accuracy: 0.5009\n",
      "Epoch 16/40\n",
      "30000/30000 [==============================] - 2s 54us/sample - loss: 0.6932 - accuracy: 0.5049s - loss: 0.6932 - accuracy: 0.\n",
      "Epoch 17/40\n",
      "30000/30000 [==============================] - 2s 53us/sample - loss: 0.6932 - accuracy: 0.4834s - loss: 0.6932 - accuracy: 0.\n",
      "Epoch 18/40\n",
      "30000/30000 [==============================] - 2s 61us/sample - loss: 0.6931 - accuracy: 0.5063\n",
      "Epoch 19/40\n",
      "30000/30000 [==============================] - 2s 56us/sample - loss: 0.6931 - accuracy: 0.4910\n",
      "Epoch 20/40\n",
      "30000/30000 [==============================] - 2s 53us/sample - loss: 0.6931 - accuracy: 0.5213\n",
      "Epoch 21/40\n",
      "30000/30000 [==============================] - 2s 56us/sample - loss: 0.6930 - accuracy: 0.5317\n",
      "Epoch 22/40\n",
      "30000/30000 [==============================] - 2s 54us/sample - loss: 0.6930 - accuracy: 0.5483\n",
      "Epoch 23/40\n",
      "30000/30000 [==============================] - 2s 61us/sample - loss: 0.6927 - accuracy: 0.4347\n",
      "Epoch 24/40\n",
      "30000/30000 [==============================] - 2s 61us/sample - loss: 0.6926 - accuracy: 0.5335\n",
      "Epoch 25/40\n",
      "30000/30000 [==============================] - 2s 69us/sample - loss: 0.6924 - accuracy: 0.5779\n",
      "Epoch 26/40\n",
      "30000/30000 [==============================] - 2s 50us/sample - loss: 0.6919 - accuracy: 0.5182\n",
      "Epoch 27/40\n",
      "30000/30000 [==============================] - 2s 62us/sample - loss: 0.6912 - accuracy: 0.5705\n",
      "Epoch 28/40\n",
      "30000/30000 [==============================] - 2s 61us/sample - loss: 0.6899 - accuracy: 0.5166\n",
      "Epoch 29/40\n",
      "30000/30000 [==============================] - 1s 49us/sample - loss: 0.6877 - accuracy: 0.5805\n",
      "Epoch 30/40\n",
      "30000/30000 [==============================] - 2s 54us/sample - loss: 0.6837 - accuracy: 0.5844\n",
      "Epoch 31/40\n",
      "30000/30000 [==============================] - 2s 50us/sample - loss: 0.6768 - accuracy: 0.5741\n",
      "Epoch 32/40\n",
      "30000/30000 [==============================] - 2s 51us/sample - loss: 0.6649 - accuracy: 0.5875\n",
      "Epoch 33/40\n",
      "30000/30000 [==============================] - 2s 57us/sample - loss: 0.6460 - accuracy: 0.5932\n",
      "Epoch 34/40\n",
      "30000/30000 [==============================] - 2s 59us/sample - loss: 0.6167 - accuracy: 0.6284\n",
      "Epoch 35/40\n",
      "30000/30000 [==============================] - 2s 53us/sample - loss: 0.5744 - accuracy: 0.7452\n",
      "Epoch 36/40\n",
      "30000/30000 [==============================] - 2s 51us/sample - loss: 0.5215 - accuracy: 0.8685\n",
      "Epoch 37/40\n",
      "30000/30000 [==============================] - 2s 61us/sample - loss: 0.4646 - accuracy: 0.9071\n",
      "Epoch 38/40\n",
      "30000/30000 [==============================] - 2s 56us/sample - loss: 0.4110 - accuracy: 0.9168\n",
      "Epoch 39/40\n",
      "30000/30000 [==============================] - 2s 50us/sample - loss: 0.3641 - accuracy: 0.9197\n",
      "Epoch 40/40\n",
      "30000/30000 [==============================] - 1s 49us/sample - loss: 0.3252 - accuracy: 0.9217\n"
     ]
    },
    {
     "data": {
      "text/plain": [
       "<tensorflow.python.keras.callbacks.History at 0x1d9d7227cf8>"
      ]
     },
     "execution_count": 25,
     "metadata": {},
     "output_type": "execute_result"
    }
   ],
   "source": [
    "model.fit(X_train,Y_train,epochs = 40)"
   ]
  },
  {
   "cell_type": "markdown",
   "metadata": {},
   "source": [
    "## Evaluating the model"
   ]
  },
  {
   "cell_type": "code",
   "execution_count": 26,
   "metadata": {},
   "outputs": [
    {
     "name": "stdout",
     "output_type": "stream",
     "text": [
      "X_test <class 'numpy.ndarray'>\n",
      "X_test (10000, 2)\n",
      "<class 'numpy.ndarray'>\n",
      "(10000, 2)\n",
      "Accuracy: % 91.58\n",
      "That means that out of 10000 test samples, this model got 9158 correct and 842 incorrect\n"
     ]
    }
   ],
   "source": [
    "from sklearn.metrics import accuracy_score, confusion_matrix\n",
    "predictions = model.predict(X_test)\n",
    "print(\"X_test\",type(X_test))\n",
    "print(\"X_test\",X_test.shape)\n",
    "print(type(predictions))\n",
    "print(predictions.shape)\n",
    "print(\"Accuracy: %\", accuracy_score(Y_test.argmax(axis=1), predictions.argmax(axis=1)) * 100)\n",
    "\n",
    "correct_preds = (Y_test.argmax(axis=1) == predictions.argmax(axis=1))\n",
    "print(\"That means that out of\", Y_test.shape[0] ,\"test samples, this model got\", \n",
    "      np.where(correct_preds)[0].size, \"correct and\",\n",
    "      np.where(~correct_preds)[0].size, \"incorrect\")"
   ]
  },
  {
   "cell_type": "code",
   "execution_count": 28,
   "metadata": {},
   "outputs": [
    {
     "data": {
      "image/png": "[encoded data removed]",
      "text/plain": [
       "<Figure size 720x576 with 2 Axes>"
      ]
     },
     "metadata": {},
     "output_type": "display_data"
    }
   ],
   "source": [
    "import seaborn as sns\n",
    "# Import matplotlib\n",
    "import matplotlib.pyplot as plt \n",
    "cm = confusion_matrix(Y_test.argmax(axis=1), predictions.argmax(axis=1))\n",
    "\n",
    "plt.figure(figsize=(10, 8))\n",
    "sns.heatmap(cm, cmap=\"viridis\", vmax=100, annot=True, fmt='g')\n",
    "plt.gca().set_xlabel(\"Predicted number\", fontsize=16)\n",
    "plt.gca().set_ylabel(\"Actual number\", fontsize = 16)\n",
    "plt.show()"
   ]
  }
 ],
 "metadata": {
  "kernelspec": {
   "display_name": "Python [conda env:py3-TF2] *",
   "language": "python",
   "name": "conda-env-py3-TF2-py"
  },
  "language_info": {
   "codemirror_mode": {
    "name": "ipython",
    "version": 3
   },
   "file_extension": ".py",
   "mimetype": "text/x-python",
   "name": "python",
   "nbconvert_exporter": "python",
   "pygments_lexer": "ipython3",
   "version": "3.6.4"
  }
 },
 "nbformat": 4,
 "nbformat_minor": 2
}
